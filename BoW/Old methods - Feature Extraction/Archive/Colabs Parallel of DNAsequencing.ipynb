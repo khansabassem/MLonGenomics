{
 "cells": [
  {
   "cell_type": "code",
   "execution_count": 10,
   "metadata": {
    "colab": {
     "base_uri": "https://localhost:8080/"
    },
    "executionInfo": {
     "elapsed": 12471,
     "status": "ok",
     "timestamp": 1616722972813,
     "user": {
      "displayName": "Swiss Baz",
      "photoUrl": "https://lh3.googleusercontent.com/a-/AOh14GjXzlrRV6mp31muOP9-SkG2Bqe4yaRqjFrtEvNyUzQ=s64",
      "userId": "00750900217968553970"
     },
     "user_tz": -60
    },
    "id": "grekmi8Dhqkx",
    "outputId": "ba0e9dc4-042a-4230-d6f1-41c3a590264e"
   },
   "outputs": [],
   "source": [
    "# !pip install Bio\n",
    "# # !pip install dasK\n",
    "\n",
    "# !pip install numpy\n",
    "# !pip install pandas"
   ]
  },
  {
   "cell_type": "code",
   "execution_count": 11,
   "metadata": {
    "colab": {
     "base_uri": "https://localhost:8080/"
    },
    "executionInfo": {
     "elapsed": 25498,
     "status": "ok",
     "timestamp": 1616722999479,
     "user": {
      "displayName": "Swiss Baz",
      "photoUrl": "https://lh3.googleusercontent.com/a-/AOh14GjXzlrRV6mp31muOP9-SkG2Bqe4yaRqjFrtEvNyUzQ=s64",
      "userId": "00750900217968553970"
     },
     "user_tz": -60
    },
    "id": "XQaeyFF44If1",
    "outputId": "1a3a4ba6-1d53-44f9-81b8-526e69621340"
   },
   "outputs": [],
   "source": [
    "# from google.colab import drive\n",
    "# drive.mount('/content/drive')"
   ]
  },
  {
   "cell_type": "code",
   "execution_count": 28,
   "metadata": {
    "executionInfo": {
     "elapsed": 751,
     "status": "ok",
     "timestamp": 1616723035385,
     "user": {
      "displayName": "Swiss Baz",
      "photoUrl": "https://lh3.googleusercontent.com/a-/AOh14GjXzlrRV6mp31muOP9-SkG2Bqe4yaRqjFrtEvNyUzQ=s64",
      "userId": "00750900217968553970"
     },
     "user_tz": -60
    },
    "id": "wV50vkA7hETb"
   },
   "outputs": [],
   "source": [
    "import numpy as np\n",
    "import pandas as pd\n",
    "from pandas import DataFrame\n",
    "import matplotlib.pyplot as plt\n",
    "# import swifter\n",
    "import gc\n",
    "import timeit\n",
    "# from numba import jit, cuda\n",
    "# import dask.dataframe as dd\n",
    "# from dask.multiprocessing import get\n",
    "from Bio import SeqIO\n",
    "from sklearn.feature_extraction.text import CountVectorizer\n",
    "from sklearn.feature_selection import SelectPercentile\n",
    "from sklearn.feature_selection import chi2\n",
    "from sklearn.model_selection import train_test_split\n",
    "from sklearn.naive_bayes import GaussianNB\n",
    "from sklearn.metrics import accuracy_score, f1_score, precision_score, recall_score, plot_confusion_matrix\n",
    "from scipy import sparse\n",
    "import seaborn as sn\n",
    "from joblib import dump, load\n",
    "import multiprocessing as mp\n",
    "# from pandarallel import pandarallel\n",
    "\n",
    "%matplotlib inline"
   ]
  },
  {
   "cell_type": "code",
   "execution_count": 29,
   "metadata": {
    "id": "nYHDNleE3c0C"
   },
   "outputs": [],
   "source": [
    "# pandarallel.initialize()"
   ]
  },
  {
   "cell_type": "code",
   "execution_count": 30,
   "metadata": {
    "executionInfo": {
     "elapsed": 744,
     "status": "ok",
     "timestamp": 1616723039179,
     "user": {
      "displayName": "Swiss Baz",
      "photoUrl": "https://lh3.googleusercontent.com/a-/AOh14GjXzlrRV6mp31muOP9-SkG2Bqe4yaRqjFrtEvNyUzQ=s64",
      "userId": "00750900217968553970"
     },
     "user_tz": -60
    },
    "id": "mGsQk7QFhETi"
   },
   "outputs": [],
   "source": [
    "labels = []\n",
    "def importLabels():\n",
    "    # with open('./Data/labels.txt', 'r') as filehandle:\n",
    "    with open('./Data/shortlabels.txt', 'r') as filehandle:\n",
    "        for line in filehandle:\n",
    "            # remove linebreak, if exists, which is the last character of the string\n",
    "            if(line[-1] == \"\\n\"):\n",
    "                currentPlace = line[:-1]\n",
    "            else:\n",
    "                currentPlace = line[:]\n",
    "            # add item to the list\n",
    "            labels.append(currentPlace)\n",
    "importLabels()"
   ]
  },
  {
   "cell_type": "code",
   "execution_count": 31,
   "metadata": {
    "id": "0UqvTJj33c0D"
   },
   "outputs": [
    {
     "name": "stdout",
     "output_type": "stream",
     "text": [
      "1000\n"
     ]
    }
   ],
   "source": [
    "print(len(labels))"
   ]
  },
  {
   "cell_type": "code",
   "execution_count": 32,
   "metadata": {
    "colab": {
     "base_uri": "https://localhost:8080/"
    },
    "executionInfo": {
     "elapsed": 4712,
     "status": "ok",
     "timestamp": 1616723053863,
     "user": {
      "displayName": "Swiss Baz",
      "photoUrl": "https://lh3.googleusercontent.com/a-/AOh14GjXzlrRV6mp31muOP9-SkG2Bqe4yaRqjFrtEvNyUzQ=s64",
      "userId": "00750900217968553970"
     },
     "user_tz": -60
    },
    "id": "3neGmOyihETj",
    "outputId": "86928ca8-2349-4c72-9395-8e802863c674",
    "scrolled": true
   },
   "outputs": [
    {
     "name": "stdout",
     "output_type": "stream",
     "text": [
      "1000\n"
     ]
    }
   ],
   "source": [
    "identifiers = [] # list\n",
    "sequences = [] # list\n",
    "\n",
    "# with open('/content/drive/MyDrive/S2/TM/TM DataSet/Data/sequences.fasta') as fasta_file:  # Will close handle cleanly\n",
    "with open('./Data/short.fasta') as fasta_file:  # Will close handle cleanly\n",
    "\n",
    "    for seq_record in SeqIO.parse(fasta_file, 'fasta'):  # (generator)\n",
    "        identifiers.append(seq_record.id)\n",
    "        sequences.append(str(seq_record.seq))\n",
    "print(len(sequences))"
   ]
  },
  {
   "cell_type": "markdown",
   "metadata": {
    "id": "tBm8ZBUPhETk"
   },
   "source": [
    "# *varKmers* : converts sequence of DNA into variable length k-mers between lower and upper bounds (included)"
   ]
  },
  {
   "cell_type": "code",
   "execution_count": 33,
   "metadata": {
    "executionInfo": {
     "elapsed": 773,
     "status": "ok",
     "timestamp": 1616723055443,
     "user": {
      "displayName": "Swiss Baz",
      "photoUrl": "https://lh3.googleusercontent.com/a-/AOh14GjXzlrRV6mp31muOP9-SkG2Bqe4yaRqjFrtEvNyUzQ=s64",
      "userId": "00750900217968553970"
     },
     "user_tz": -60
    },
    "id": "_-hkxM00hETl"
   },
   "outputs": [],
   "source": [
    "\n",
    "\n",
    "def varKmers(sequence, lower, upper):\n",
    "    # threadsperblock = 32\n",
    "    # blockspergrid = (len(sequence) + (threadsperblock - 1)) // threadsperblock\n",
    "    res = []\n",
    "    for i in range(lower, upper+1): \n",
    "        res = res + genKmers(sequence, i)\n",
    "#         res = res + worder(sequence, i)\n",
    "\n",
    "    return res\n",
    "def genKmers(sequence, size=6):\n",
    "    return [sequence[x:x+size].lower() for x in range(len(sequence) - size + 1)]"
   ]
  },
  {
   "cell_type": "code",
   "execution_count": 34,
   "metadata": {},
   "outputs": [],
   "source": [
    "# def worder(prot_1, 3)"
   ]
  },
  {
   "cell_type": "code",
   "execution_count": 73,
   "metadata": {
    "colab": {
     "base_uri": "https://localhost:8080/",
     "height": 212
    },
    "executionInfo": {
     "elapsed": 56100,
     "status": "ok",
     "timestamp": 1616723117107,
     "user": {
      "displayName": "Swiss Baz",
      "photoUrl": "https://lh3.googleusercontent.com/a-/AOh14GjXzlrRV6mp31muOP9-SkG2Bqe4yaRqjFrtEvNyUzQ=s64",
      "userId": "00750900217968553970"
     },
     "user_tz": -60
    },
    "id": "z_ZbPiw4hETl",
    "outputId": "ac0a776e-7233-4d20-bafb-844d0fda3abc"
   },
   "outputs": [
    {
     "name": "stdout",
     "output_type": "stream",
     "text": [
      "Time took to create k-mers 9.038289099999929\n",
      "Time took to create concatenated k-mers sequences:  3.5866949999999633\n"
     ]
    },
    {
     "data": {
      "text/html": [
       "<div>\n",
       "<style scoped>\n",
       "    .dataframe tbody tr th:only-of-type {\n",
       "        vertical-align: middle;\n",
       "    }\n",
       "\n",
       "    .dataframe tbody tr th {\n",
       "        vertical-align: top;\n",
       "    }\n",
       "\n",
       "    .dataframe thead th {\n",
       "        text-align: right;\n",
       "    }\n",
       "</style>\n",
       "<table border=\"1\" class=\"dataframe\">\n",
       "  <thead>\n",
       "    <tr style=\"text-align: right;\">\n",
       "      <th></th>\n",
       "      <th>concatenated Kmers</th>\n",
       "    </tr>\n",
       "  </thead>\n",
       "  <tbody>\n",
       "    <tr>\n",
       "      <th>0</th>\n",
       "      <td>ggagc gagcg agcga gcgaa cgaaa gaaaa aaaag aaag...</td>\n",
       "    </tr>\n",
       "    <tr>\n",
       "      <th>1</th>\n",
       "      <td>tgacg gacgc acgcg cgcgg gcggc cggct ggcta gcta...</td>\n",
       "    </tr>\n",
       "    <tr>\n",
       "      <th>2</th>\n",
       "      <td>acttt ctttc tttcg ttcgc tcgca cgcac gcaca caca...</td>\n",
       "    </tr>\n",
       "    <tr>\n",
       "      <th>3</th>\n",
       "      <td>tcccc cccca cccaa ccaag caagg aaggt aggta ggta...</td>\n",
       "    </tr>\n",
       "    <tr>\n",
       "      <th>4</th>\n",
       "      <td>ctcct tcctc cctca ctcaa tcaag caagc aagcg agcg...</td>\n",
       "    </tr>\n",
       "  </tbody>\n",
       "</table>\n",
       "</div>"
      ],
      "text/plain": [
       "                                  concatenated Kmers\n",
       "0  ggagc gagcg agcga gcgaa cgaaa gaaaa aaaag aaag...\n",
       "1  tgacg gacgc acgcg cgcgg gcggc cggct ggcta gcta...\n",
       "2  acttt ctttc tttcg ttcgc tcgca cgcac gcaca caca...\n",
       "3  tcccc cccca cccaa ccaag caagg aaggt aggta ggta...\n",
       "4  ctcct tcctc cctca ctcaa tcaag caagc aagcg agcg..."
      ]
     },
     "execution_count": 73,
     "metadata": {},
     "output_type": "execute_result"
    }
   ],
   "source": [
    "dfKmers = DataFrame(sequences,columns=['sequences'])\n",
    "# ddata = dd.from_pandas(dfKmers, npartitions=8)\n",
    "min = 5\n",
    "max = 8\n",
    "\n",
    "def createKmers(min, max):\n",
    "    dfKmers['kmers'] = dfKmers['sequences'].apply(lambda x: varKmers(x,min,max))    \n",
    "\n",
    "def concatKmers():\n",
    "    dfKmers['concatenated Kmers'] = dfKmers['kmers'].apply(lambda x: ' '.join(map(str, x)))\n",
    "\n",
    "t_pds = timeit.Timer(lambda: createKmers(min, max))\n",
    "print(\"Time took to create k-mers\", t_pds.timeit(number=1))\n",
    "\n",
    "t_pds = timeit.Timer(lambda: concatKmers())\n",
    "print(\"Time took to create concatenated k-mers sequences: \",  t_pds.timeit(number=1))\n",
    "\n",
    "dfKmers.drop('kmers', inplace=True, axis=1)\n",
    "dfKmers.drop('sequences', inplace=True, axis=1)\n",
    "dfKmers.head()"
   ]
  },
  {
   "cell_type": "markdown",
   "metadata": {
    "id": "1jxKTe583c0G"
   },
   "source": [
    "## Plot to show data distriution over the two classes \n"
   ]
  },
  {
   "cell_type": "code",
   "execution_count": 74,
   "metadata": {
    "colab": {
     "base_uri": "https://localhost:8080/",
     "height": 304
    },
    "executionInfo": {
     "elapsed": 766,
     "status": "ok",
     "timestamp": 1616723247181,
     "user": {
      "displayName": "Swiss Baz",
      "photoUrl": "https://lh3.googleusercontent.com/a-/AOh14GjXzlrRV6mp31muOP9-SkG2Bqe4yaRqjFrtEvNyUzQ=s64",
      "userId": "00750900217968553970"
     },
     "user_tz": -60
    },
    "id": "mLAP0tlm3c0G",
    "outputId": "1b3a1828-7471-488b-dde0-8d934f38195b"
   },
   "outputs": [],
   "source": [
    "# DataFrame(labels).value_counts().sort_index().plot.bar()\n"
   ]
  },
  {
   "cell_type": "code",
   "execution_count": 75,
   "metadata": {},
   "outputs": [],
   "source": [
    "def get_metrics(y_test, y_predicted):\n",
    "    accuracy = accuracy_score(y_test, y_predicted)\n",
    "    precision = precision_score(y_test, y_predicted, average='weighted')\n",
    "    recall = recall_score(y_test, y_predicted, average='weighted')\n",
    "    f1 = f1_score(y_test, y_predicted, average='weighted')\n",
    "    return accuracy, precision, recall, f1"
   ]
  },
  {
   "cell_type": "code",
   "execution_count": 76,
   "metadata": {},
   "outputs": [],
   "source": [
    "cv = CountVectorizer(ngram_range=(4,4))\n",
    "Xcv = cv.fit_transform(list(dfKmers['concatenated Kmers']))\n",
    "# selector = SelectPercentile(score_func=chi2, percentile=10)\n",
    "# # X = selector.fit_transform(cv.fit_transform(list(dfKmers['concatenated Kmers'])), labels)\n",
    "# X = selector.fit_transform(Xcv, labels)\n"
   ]
  },
  {
   "cell_type": "code",
   "execution_count": 77,
   "metadata": {},
   "outputs": [],
   "source": [
    "# Creating the Bag of Words model using CountVectorizer()\n",
    "# This is equivalent to k-mer counting\n",
    "# The ideal n-gram size is to be determined later\n",
    "# cv = CountVectorizer(ngram_range=(4,4))\n",
    "# Xcv = cv.fit_transform(list(dfKmers['concatenated Kmers']))\n",
    "# selector = SelectPercentile(score_func=chi2, percentile=1)\n",
    "# X = selector.fit_transform(Xcv, labels)\n",
    "\n",
    "# X_train, X_test, y_train, y_test = train_test_split(X, \n",
    "#                                             labels, \n",
    "#                                             test_size = 0.20, \n",
    "#                                             random_state=42)\n",
    "\n",
    "# clf = GaussianNB()\n",
    "# clf.fit(X_train.toarray(), y_train)\n",
    "# y_pred = clf.predict(X_test.toarray())\n",
    "# accuracy, precision, recall, f1 = get_metrics(y_test, y_pred)\n"
   ]
  },
  {
   "cell_type": "code",
   "execution_count": 78,
   "metadata": {},
   "outputs": [],
   "source": [
    "# print(\"accuracy = %.3f \\nprecision = %.3f \\nrecall = %.3f \\nf1 = %.3f\" % (accuracy, precision, recall, f1))"
   ]
  },
  {
   "cell_type": "code",
   "execution_count": 79,
   "metadata": {
    "executionInfo": {
     "elapsed": 240042,
     "status": "ok",
     "timestamp": 1616723497049,
     "user": {
      "displayName": "Swiss Baz",
      "photoUrl": "https://lh3.googleusercontent.com/a-/AOh14GjXzlrRV6mp31muOP9-SkG2Bqe4yaRqjFrtEvNyUzQ=s64",
      "userId": "00750900217968553970"
     },
     "user_tz": -60
    },
    "id": "YbcrRdCU3c0G"
   },
   "outputs": [],
   "source": [
    "\n",
    "\n",
    "\n",
    "# X_train, X_test, y_train, y_test = train_test_split(X, \n",
    "#                                                     labels, \n",
    "#                                                     test_size = 0.20, \n",
    "#                                                     random_state=42)\n",
    "labs = ['percentile', 'accuracy', 'precision', 'recall', 'f1']\n",
    "Data = []\n",
    "\n",
    "def findBestPercentile():\n",
    "    for i in [0.1, 0.2, 0.3, 0.4, 0.5, 0.6, 0.7, 0.8, 0.9, 1]:#, 2, 3, 4, 5, 6, 7, 8, 9, 10, 15, 20, 25, 30, 35, 40, 45, 50, 55, 60, 65, 70, 75, 80, 85, 90, 95, 100]:\n",
    "        selector = SelectPercentile(score_func=chi2, percentile=i)\n",
    "        X = selector.fit_transform(Xcv, labels)\n",
    "        X_train, X_test, y_train, y_test = train_test_split(X, \n",
    "                                                        labels, \n",
    "                                                        test_size = 0.20, \n",
    "                                                        random_state=42)\n",
    "\n",
    "        clf = GaussianNB()\n",
    "        clf.fit(X_train.toarray(), y_train)\n",
    "        y_pred = clf.predict(X_test.toarray())\n",
    "        accuracy, precision, recall, f1 = get_metrics(y_test, y_pred)\n",
    "        Data.append({'percentile': i,'accuracy': accuracy,'precision': precision, 'recall':recall, 'f1':f1,'X_train.shape': X_train.shape, 'X_test.shape': X_test.shape})\n",
    "#         print(\"Perc : \"+ str(i)+ \"  &  X_train.shape :\",  X_train.shape)\n",
    "#         print(\"  & X_test.shape :\", X_test.shape)\n",
    "#         print(\"accuracy = %.3f \\nprecision = %.3f \\nrecall = %.3f \\nf1 = %.3f\" % (accuracy, precision, recall, f1))\n",
    "\n",
    "    display(pd.DataFrame(Data))"
   ]
  },
  {
   "cell_type": "code",
   "execution_count": 80,
   "metadata": {
    "colab": {
     "base_uri": "https://localhost:8080/"
    },
    "executionInfo": {
     "elapsed": 774,
     "status": "ok",
     "timestamp": 1616723735325,
     "user": {
      "displayName": "Swiss Baz",
      "photoUrl": "https://lh3.googleusercontent.com/a-/AOh14GjXzlrRV6mp31muOP9-SkG2Bqe4yaRqjFrtEvNyUzQ=s64",
      "userId": "00750900217968553970"
     },
     "user_tz": -60
    },
    "id": "18hBRBzthETo",
    "outputId": "3c51c688-0116-4982-e3e2-aee9293df867"
   },
   "outputs": [
    {
     "data": {
      "text/html": [
       "<div>\n",
       "<style scoped>\n",
       "    .dataframe tbody tr th:only-of-type {\n",
       "        vertical-align: middle;\n",
       "    }\n",
       "\n",
       "    .dataframe tbody tr th {\n",
       "        vertical-align: top;\n",
       "    }\n",
       "\n",
       "    .dataframe thead th {\n",
       "        text-align: right;\n",
       "    }\n",
       "</style>\n",
       "<table border=\"1\" class=\"dataframe\">\n",
       "  <thead>\n",
       "    <tr style=\"text-align: right;\">\n",
       "      <th></th>\n",
       "      <th>percentile</th>\n",
       "      <th>accuracy</th>\n",
       "      <th>precision</th>\n",
       "      <th>recall</th>\n",
       "      <th>f1</th>\n",
       "      <th>X_train.shape</th>\n",
       "      <th>X_test.shape</th>\n",
       "    </tr>\n",
       "  </thead>\n",
       "  <tbody>\n",
       "    <tr>\n",
       "      <th>0</th>\n",
       "      <td>0.1</td>\n",
       "      <td>1.0</td>\n",
       "      <td>1.0</td>\n",
       "      <td>1.0</td>\n",
       "      <td>1.0</td>\n",
       "      <td>(800, 5195)</td>\n",
       "      <td>(200, 5195)</td>\n",
       "    </tr>\n",
       "    <tr>\n",
       "      <th>1</th>\n",
       "      <td>0.2</td>\n",
       "      <td>1.0</td>\n",
       "      <td>1.0</td>\n",
       "      <td>1.0</td>\n",
       "      <td>1.0</td>\n",
       "      <td>(800, 10390)</td>\n",
       "      <td>(200, 10390)</td>\n",
       "    </tr>\n",
       "    <tr>\n",
       "      <th>2</th>\n",
       "      <td>0.3</td>\n",
       "      <td>1.0</td>\n",
       "      <td>1.0</td>\n",
       "      <td>1.0</td>\n",
       "      <td>1.0</td>\n",
       "      <td>(800, 15585)</td>\n",
       "      <td>(200, 15585)</td>\n",
       "    </tr>\n",
       "    <tr>\n",
       "      <th>3</th>\n",
       "      <td>0.4</td>\n",
       "      <td>1.0</td>\n",
       "      <td>1.0</td>\n",
       "      <td>1.0</td>\n",
       "      <td>1.0</td>\n",
       "      <td>(800, 20780)</td>\n",
       "      <td>(200, 20780)</td>\n",
       "    </tr>\n",
       "    <tr>\n",
       "      <th>4</th>\n",
       "      <td>0.5</td>\n",
       "      <td>1.0</td>\n",
       "      <td>1.0</td>\n",
       "      <td>1.0</td>\n",
       "      <td>1.0</td>\n",
       "      <td>(800, 25975)</td>\n",
       "      <td>(200, 25975)</td>\n",
       "    </tr>\n",
       "    <tr>\n",
       "      <th>5</th>\n",
       "      <td>0.6</td>\n",
       "      <td>1.0</td>\n",
       "      <td>1.0</td>\n",
       "      <td>1.0</td>\n",
       "      <td>1.0</td>\n",
       "      <td>(800, 31170)</td>\n",
       "      <td>(200, 31170)</td>\n",
       "    </tr>\n",
       "    <tr>\n",
       "      <th>6</th>\n",
       "      <td>0.7</td>\n",
       "      <td>1.0</td>\n",
       "      <td>1.0</td>\n",
       "      <td>1.0</td>\n",
       "      <td>1.0</td>\n",
       "      <td>(800, 36365)</td>\n",
       "      <td>(200, 36365)</td>\n",
       "    </tr>\n",
       "    <tr>\n",
       "      <th>7</th>\n",
       "      <td>0.8</td>\n",
       "      <td>1.0</td>\n",
       "      <td>1.0</td>\n",
       "      <td>1.0</td>\n",
       "      <td>1.0</td>\n",
       "      <td>(800, 41560)</td>\n",
       "      <td>(200, 41560)</td>\n",
       "    </tr>\n",
       "    <tr>\n",
       "      <th>8</th>\n",
       "      <td>0.9</td>\n",
       "      <td>1.0</td>\n",
       "      <td>1.0</td>\n",
       "      <td>1.0</td>\n",
       "      <td>1.0</td>\n",
       "      <td>(800, 46755)</td>\n",
       "      <td>(200, 46755)</td>\n",
       "    </tr>\n",
       "    <tr>\n",
       "      <th>9</th>\n",
       "      <td>1.0</td>\n",
       "      <td>1.0</td>\n",
       "      <td>1.0</td>\n",
       "      <td>1.0</td>\n",
       "      <td>1.0</td>\n",
       "      <td>(800, 51950)</td>\n",
       "      <td>(200, 51950)</td>\n",
       "    </tr>\n",
       "  </tbody>\n",
       "</table>\n",
       "</div>"
      ],
      "text/plain": [
       "   percentile  accuracy  precision  recall   f1 X_train.shape  X_test.shape\n",
       "0         0.1       1.0        1.0     1.0  1.0   (800, 5195)   (200, 5195)\n",
       "1         0.2       1.0        1.0     1.0  1.0  (800, 10390)  (200, 10390)\n",
       "2         0.3       1.0        1.0     1.0  1.0  (800, 15585)  (200, 15585)\n",
       "3         0.4       1.0        1.0     1.0  1.0  (800, 20780)  (200, 20780)\n",
       "4         0.5       1.0        1.0     1.0  1.0  (800, 25975)  (200, 25975)\n",
       "5         0.6       1.0        1.0     1.0  1.0  (800, 31170)  (200, 31170)\n",
       "6         0.7       1.0        1.0     1.0  1.0  (800, 36365)  (200, 36365)\n",
       "7         0.8       1.0        1.0     1.0  1.0  (800, 41560)  (200, 41560)\n",
       "8         0.9       1.0        1.0     1.0  1.0  (800, 46755)  (200, 46755)\n",
       "9         1.0       1.0        1.0     1.0  1.0  (800, 51950)  (200, 51950)"
      ]
     },
     "metadata": {},
     "output_type": "display_data"
    }
   ],
   "source": [
    "findBestPercentile()"
   ]
  },
  {
   "cell_type": "code",
   "execution_count": null,
   "metadata": {
    "colab": {
     "base_uri": "https://localhost:8080/"
    },
    "executionInfo": {
     "elapsed": 3955,
     "status": "ok",
     "timestamp": 1616723888958,
     "user": {
      "displayName": "Swiss Baz",
      "photoUrl": "https://lh3.googleusercontent.com/a-/AOh14GjXzlrRV6mp31muOP9-SkG2Bqe4yaRqjFrtEvNyUzQ=s64",
      "userId": "00750900217968553970"
     },
     "user_tz": -60
    },
    "id": "IGD7jnJOhETo",
    "outputId": "5f5b5aaf-c889-4ce7-f8ec-cd5555fd638c"
   },
   "outputs": [],
   "source": [
    "\n"
   ]
  },
  {
   "cell_type": "code",
   "execution_count": 43,
   "metadata": {
    "executionInfo": {
     "elapsed": 2179,
     "status": "ok",
     "timestamp": 1616723889800,
     "user": {
      "displayName": "Swiss Baz",
      "photoUrl": "https://lh3.googleusercontent.com/a-/AOh14GjXzlrRV6mp31muOP9-SkG2Bqe4yaRqjFrtEvNyUzQ=s64",
      "userId": "00750900217968553970"
     },
     "user_tz": -60
    },
    "id": "u5LLSXIzhETp"
   },
   "outputs": [],
   "source": [
    "\n",
    "# clf = load('./saved/clf.joblib') \n"
   ]
  },
  {
   "cell_type": "code",
   "execution_count": 44,
   "metadata": {
    "colab": {
     "base_uri": "https://localhost:8080/"
    },
    "executionInfo": {
     "elapsed": 888,
     "status": "ok",
     "timestamp": 1616723893057,
     "user": {
      "displayName": "Swiss Baz",
      "photoUrl": "https://lh3.googleusercontent.com/a-/AOh14GjXzlrRV6mp31muOP9-SkG2Bqe4yaRqjFrtEvNyUzQ=s64",
      "userId": "00750900217968553970"
     },
     "user_tz": -60
    },
    "id": "uOEeL7ODhETp",
    "outputId": "7168e336-548b-49df-fe8b-3a7a2e05674b"
   },
   "outputs": [
    {
     "name": "stdout",
     "output_type": "stream",
     "text": [
      "accuracy = 0.660 \n",
      "precision = 0.660 \n",
      "recall = 0.660 \n",
      "f1 = 0.658\n"
     ]
    }
   ],
   "source": [
    "\n",
    "\n",
    "# print(\"Confusion matrix\\n\")\n",
    "def get_metrics(y_test, y_predicted):\n",
    "    accuracy = accuracy_score(y_test, y_predicted)\n",
    "    precision = precision_score(y_test, y_predicted, average='weighted')\n",
    "    recall = recall_score(y_test, y_predicted, average='weighted')\n",
    "    f1 = f1_score(y_test, y_predicted, average='weighted')\n",
    "    return accuracy, precision, recall, f1\n",
    "accuracy, precision, recall, f1 = get_metrics(y_test, y_pred)\n",
    "print(\"accuracy = %.3f \\nprecision = %.3f \\nrecall = %.3f \\nf1 = %.3f\" % (accuracy, precision, recall, f1))\n",
    "\n",
    "# pd.crosstab(pd.Series(y_test, name='Actual'), pd.Series(y_pred, name='Predicted'))\n",
    "\n"
   ]
  },
  {
   "cell_type": "code",
   "execution_count": 45,
   "metadata": {
    "colab": {
     "base_uri": "https://localhost:8080/",
     "height": 329
    },
    "executionInfo": {
     "elapsed": 1478,
     "status": "ok",
     "timestamp": 1616723897559,
     "user": {
      "displayName": "Swiss Baz",
      "photoUrl": "https://lh3.googleusercontent.com/a-/AOh14GjXzlrRV6mp31muOP9-SkG2Bqe4yaRqjFrtEvNyUzQ=s64",
      "userId": "00750900217968553970"
     },
     "user_tz": -60
    },
    "id": "jqvAWpGUhETp",
    "outputId": "cf4aa12e-b122-43a1-eb15-4c0f7f2b9042",
    "scrolled": true
   },
   "outputs": [
    {
     "data": {
      "text/plain": [
       "array([[75, 29],\n",
       "       [39, 57]], dtype=int64)"
      ]
     },
     "execution_count": 45,
     "metadata": {},
     "output_type": "execute_result"
    },
    {
     "data": {
      "image/png": "[encoded data removed]",
      "text/plain": [
       "<Figure size 432x288 with 2 Axes>"
      ]
     },
     "metadata": {
      "needs_background": "light"
     },
     "output_type": "display_data"
    }
   ],
   "source": [
    "class_names = ['True', 'False']\n",
    "disp = plot_confusion_matrix(clf, X_test.toarray(), y_test,\n",
    "                             display_labels=class_names,\n",
    "                             cmap=plt.cm.BuGn)\n",
    "disp.ax_.set_title('Confusion Matrix')\n",
    "disp.confusion_matrix\n",
    "\n"
   ]
  },
  {
   "cell_type": "code",
   "execution_count": 46,
   "metadata": {
    "id": "yy8YSWgmhETp"
   },
   "outputs": [],
   "source": [
    "# sn.heatmap(pd.crosstab(pd.Series(y_test, name='Actual'), pd.Series(y_pred, name='Predicted')), annot=True,cmap=\"OrRd\")\n",
    "# dump(clf, './saved/clf.joblib') \n",
    "# clf = load('./saved/clf.joblib') "
   ]
  },
  {
   "cell_type": "code",
   "execution_count": null,
   "metadata": {
    "id": "BeIYSu7ZhETq"
   },
   "outputs": [],
   "source": []
  },
  {
   "cell_type": "code",
   "execution_count": null,
   "metadata": {
    "id": "fqurFUCNhETq"
   },
   "outputs": [],
   "source": []
  }
 ],
 "metadata": {
  "colab": {
   "collapsed_sections": [],
   "name": "Colabs Parallel of DNAsequencing.ipynb",
   "provenance": [
    {
     "file_id": "1i18NqNHMNQn_ZW-JCNOdYdWAZBc747mY",
     "timestamp": 1616681546116
    }
   ],
   "toc_visible": true
  },
  "kernelspec": {
   "display_name": "Python 3",
   "language": "python",
   "name": "python3"
  },
  "language_info": {
   "codemirror_mode": {
    "name": "ipython",
    "version": 3
   },
   "file_extension": ".py",
   "mimetype": "text/x-python",
   "name": "python",
   "nbconvert_exporter": "python",
   "pygments_lexer": "ipython3",
   "version": "3.8.5"
  }
 },
 "nbformat": 4,
 "nbformat_minor": 1
}
