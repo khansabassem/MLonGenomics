{
 "cells": [
  {
   "cell_type": "code",
   "execution_count": 57,
   "metadata": {},
   "outputs": [],
   "source": [
    "import numpy as np\n",
    "import pandas as pd\n",
    "from pandas import DataFrame\n",
    "import matplotlib.pyplot as plt\n",
    "# import swifter\n",
    "import gc\n",
    "import timeit\n",
    "# from numba import jit, cuda\n",
    "import dask.dataframe as dd\n",
    "from dask.multiprocessing import get\n",
    "from Bio import SeqIO\n",
    "from sklearn.feature_extraction.text import CountVectorizer\n",
    "from sklearn.feature_selection import SelectPercentile\n",
    "from sklearn.feature_selection import chi2\n",
    "from sklearn.model_selection import train_test_split\n",
    "from sklearn.naive_bayes import GaussianNB\n",
    "from sklearn.metrics import accuracy_score, f1_score, precision_score, recall_score, plot_confusion_matrix\n",
    "from scipy import sparse\n",
    "import seaborn as sn\n",
    "from joblib import dump, load\n",
    "import multiprocessing as mp\n",
    "from pandarallel import pandarallel\n",
    "\n",
    "%matplotlib inline"
   ]
  },
  {
   "cell_type": "code",
   "execution_count": 64,
   "metadata": {},
   "outputs": [],
   "source": [
    "labels = []\n",
    "def importLabels():\n",
    "#     with open('./Data/shortlabels.txt', 'r') as filehandle:\n",
    "    with open('./Data/labels.txt', 'r') as filehandle:\n",
    "\n",
    "\n",
    "        for line in filehandle:\n",
    "            # remove linebreak, if exists, which is the last character of the string\n",
    "            if(line[-1] == \"\\n\"):\n",
    "                currentPlace = line[:-1]\n",
    "            else:\n",
    "                currentPlace = line[:]\n",
    "            # add item to the list\n",
    "            labels.append(currentPlace)\n",
    "importLabels()"
   ]
  },
  {
   "cell_type": "code",
   "execution_count": 65,
   "metadata": {},
   "outputs": [
    {
     "name": "stdout",
     "output_type": "stream",
     "text": [
      "60000\n"
     ]
    }
   ],
   "source": [
    "identifiers = [] # list\n",
    "sequences = [] # list\n",
    "\n",
    "with open('./Data/sequences.fasta') as fasta_file:  # Will close handle cleanly\n",
    "# with open('./Data/short.fasta') as fasta_file:  # Will close handle cleanly\n",
    "\n",
    "    for seq_record in SeqIO.parse(fasta_file, 'fasta'):  # (generator)\n",
    "        identifiers.append(seq_record.id)\n",
    "        sequences.append(str(seq_record.seq))\n",
    "print(len(sequences))"
   ]
  },
  {
   "cell_type": "code",
   "execution_count": 87,
   "metadata": {},
   "outputs": [],
   "source": [
    "# kmrdic = pd.DataFrame()\n",
    "\n",
    "\n",
    "def kmersPerSequenceDict(sequence, lower, upper):\n",
    "    dic =  {}\n",
    "    for size in range(lower, upper+1):\n",
    "        for x in range(len(sequence) - size + 1):\n",
    "    #           kdic.append(sequence[x:x+size].lower())\n",
    "    #         print(str(sequence[x:x+size].lower()))\n",
    "    #         kmrdic[str(sequence[x:x+size].lower())] += 1\n",
    "    #         print('X : ', sequence[x:x+size].lower() )\n",
    "            if not str(sequence[x:x+size].lower()) in dic:\n",
    "                dic[str(sequence[x:x+size].lower())] = 1\n",
    "            else:\n",
    "                dic[str(sequence[x:x+size].lower())] += 1\n",
    "#     display(dic)\n",
    "    return dic\n",
    "    print('type of dic :', type(dic))"
   ]
  },
  {
   "cell_type": "markdown",
   "metadata": {},
   "source": [
    "# time required to process one sequence for kmers between 5-6\n",
    "### Time took to create concatenated k-mers sequences:  0.04519199999776902"
   ]
  },
  {
   "cell_type": "code",
   "execution_count": 88,
   "metadata": {},
   "outputs": [],
   "source": [
    "# t_pds = timeit.Timer(lambda: genKmersDictionary(sequences[0], 5, 6))\n",
    "# print(\"Time took to create concatenated k-mers sequences: \",  t_pds.timeit(number=1))\n"
   ]
  },
  {
   "cell_type": "code",
   "execution_count": 97,
   "metadata": {},
   "outputs": [],
   "source": [
    "output = pd.DataFrame()"
   ]
  },
  {
   "cell_type": "code",
   "execution_count": 99,
   "metadata": {},
   "outputs": [],
   "source": [
    "# df = pd.concatenate([genKmers(sequences[i], 5, 6) for i in range(len(sequences))])\n",
    "\n",
    "lower = 4\n",
    "upper = 5\n",
    "def kmersPerDataset():\n",
    "    global output\n",
    "    for sequence in sequences:\n",
    "        dic = kmersPerSequenceDict(sequence, lower, upper)\n",
    "        output = output.append(dic, ignore_index=True)"
   ]
  },
  {
   "cell_type": "code",
   "execution_count": null,
   "metadata": {},
   "outputs": [],
   "source": [
    "t_pds = timeit.Timer(lambda: kmersPerDataset())\n",
    "print(\"Time took to create a DF of all k-mers sequences with occurences: \",  t_pds.timeit(number=1))"
   ]
  },
  {
   "cell_type": "code",
   "execution_count": null,
   "metadata": {},
   "outputs": [],
   "source": [
    "display(output)"
   ]
  },
  {
   "cell_type": "code",
   "execution_count": null,
   "metadata": {},
   "outputs": [],
   "source": []
  }
 ],
 "metadata": {
  "kernelspec": {
   "display_name": "Python 3",
   "language": "python",
   "name": "python3"
  },
  "language_info": {
   "codemirror_mode": {
    "name": "ipython",
    "version": 3
   },
   "file_extension": ".py",
   "mimetype": "text/x-python",
   "name": "python",
   "nbconvert_exporter": "python",
   "pygments_lexer": "ipython3",
   "version": "3.8.5"
  }
 },
 "nbformat": 4,
 "nbformat_minor": 4
}
