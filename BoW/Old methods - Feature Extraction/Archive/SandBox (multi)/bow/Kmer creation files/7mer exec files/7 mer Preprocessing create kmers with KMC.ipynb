{
 "cells": [
  {
   "cell_type": "markdown",
   "metadata": {},
   "source": [
    "> # Using fast \"kmc kmer counter\" to create kmers and count them per sequence. \n",
    "> ***\n",
    ">  kmc is an external tool (exe app) that needs to be downloaded. \n",
    ">  It is a very efficient tool for data preprocessing, famous in bio-informatics.\n",
    "> * link to download https://github.com/refresh-bio/KMC\n",
    "> ## Attention! \n",
    "> The ***kmer-counter.exe*** and ***kmc-tools.exe*** need to be in the same directory as the files resulting from splitting otherwise it doesn't work (limitation of the app itself, poor implementation or documentation)\n",
    "***\n",
    "> ## Requirements for this notebook to work:\n",
    "> - kmer-counter.exe \n",
    "> - kmc-tools.exe\n",
    "> - put the multi fasta file in the same working directory\n"
   ]
  },
  {
   "cell_type": "code",
   "execution_count": 3,
   "metadata": {},
   "outputs": [],
   "source": [
    "import os\n",
    "import sys\n",
    "import argparse\n",
    "import subprocess as sp\n",
    "import timeit\n",
    "import glob"
   ]
  },
  {
   "cell_type": "markdown",
   "metadata": {},
   "source": [
    "## Define the kmer range: low, up\n"
   ]
  },
  {
   "cell_type": "code",
   "execution_count": 4,
   "metadata": {},
   "outputs": [
    {
     "name": "stdout",
     "output_type": "stream",
     "text": [
      "D:\\DataSet\\MULTI\\bow\\7mer\n"
     ]
    }
   ],
   "source": [
    "# Set the range of k-mers to create: lower and upper. I decided to use 4 and 10\n",
    "low = 7\n",
    "up = 7\n",
    "#get working directory path \n",
    "seqPath = os.getcwd()\n",
    "print(seqPath)\n",
    "#set the path for KMC counter executable\n",
    "counterPath = seqPath + r\"\\kmer_counter.exe\" #r\"D:\\DataSet\\MULTI\\bow\\4mer\\kmer_counter.exe\"\n",
    "#set fasta file path\n",
    "file_path = seqPath#r'D:\\DataSet\\MULTI\\bow\\4mer'"
   ]
  },
  {
   "cell_type": "markdown",
   "metadata": {},
   "source": [
    "\n",
    "# 1. Split Single Multi-sequence $FASTA$ file into multiple Single-sequence $FASTA$ Files "
   ]
  },
  {
   "cell_type": "code",
   "execution_count": 5,
   "metadata": {
    "scrolled": true
   },
   "outputs": [],
   "source": [
    "def split():\n",
    "    with open(seqPath + r'\\sequences.fasta', \"r\") as fa:\n",
    "        lines=fa.read().split('>')\n",
    "        lines = lines[1:]\n",
    "        lines=['>'+ seq for seq in lines]\n",
    "        for name in lines:\n",
    "            #Extracting sequence Id to use it for file name\n",
    "            file_name=name.split('\\n')[0][1:]  \n",
    "            out_file=open(file_path+\"/\"+file_name+\".fasta\", \"a\")\n",
    "            out_file.write(name)\n",
    "            out_file.close()\n",
    "            \n",
    "# uncomment the call split below to activate split fasta file into multiple sequences:                        \n",
    "# split() \n"
   ]
  },
  {
   "cell_type": "markdown",
   "metadata": {},
   "source": [
    "# 2. Create kmers by looping all the $FASTA$ files\n",
    "> - Don't forget to include the kmc_counter.exe and Kmc_tools.exe in the same directory as the fasta files otherwise it doesn't work\n",
    "\n",
    "> - \"D:\\DataSet\\MULTI\\split test\\raw count\\kmer_counter.exe\" -k10 -fm  D:\\DataSet\\MULTI\\split test\\raw count\\Synthetic_sequence_0.fasta k10seq0 \"D:\\DataSet\\MULTI\\split test\\raw count\\\"\n"
   ]
  },
  {
   "cell_type": "code",
   "execution_count": 6,
   "metadata": {
    "scrolled": false
   },
   "outputs": [
    {
     "name": "stdout",
     "output_type": "stream",
     "text": [
      "288 ns ± 19.9 ns per loop (mean ± std. dev. of 7 runs, 1000000 loops each)\n"
     ]
    }
   ],
   "source": [
    "%%timeit \n",
    "def count():\n",
    "    for k in range(low, up+1):\n",
    "        for seqNb in range(60000):\n",
    "            createKmers = [counterPath,\"-k\" + str(k), \"-fm\",\"-r\", \"-b\", \"Synthetic_sequence_\" + str(seqNb) + \".fasta\", \"kmers-\"+str(k)+\"-seqNb-\" + str(seqNb) , seqPath]\n",
    "    #         print(createKmers)\n",
    "            sp.run(createKmers)\n",
    "\n",
    "\n",
    "# count()"
   ]
  },
  {
   "cell_type": "markdown",
   "metadata": {},
   "source": [
    "## 2.1  Delete $FASTA$ Files to free disk"
   ]
  },
  {
   "cell_type": "code",
   "execution_count": 7,
   "metadata": {},
   "outputs": [],
   "source": [
    "\n",
    "def deleteFasta():\n",
    "    for k in range(low, up+1):\n",
    "        for seqNb in range(60000):\n",
    "            deleteFasta = ['del',\"/f\",\"/q\",'Synthetic_sequence_*.*']\n",
    "            sp.call(deleteFasta,shell=True)\n",
    "# delete()"
   ]
  },
  {
   "cell_type": "markdown",
   "metadata": {},
   "source": [
    "# 3. Transform $ *.kmc\\_* $ raw files into $ *.txt $  files containing kmers & counts\n",
    "##### kmc_tools.exe transform\n"
   ]
  },
  {
   "cell_type": "code",
   "execution_count": 8,
   "metadata": {
    "scrolled": true
   },
   "outputs": [],
   "source": [
    "def transform():\n",
    "    for k in range(low, up+1):\n",
    "        for seqNb in range(60000):\n",
    "            transformKmer = [\"kmc_tools.exe\", \"transform\", seqPath + r\"\\kmers-\"+str(k)+\"-seqNb-\" + str(seqNb), \"dump\",seqPath + r\"\\kmers-\"+str(k)+\"-seqNb-\" + str(seqNb) +\".txt\"]\n",
    "            sp.run(transformKmer)\n",
    "#             print(transformKmer)\n",
    "transform()"
   ]
  },
  {
   "cell_type": "markdown",
   "metadata": {},
   "source": [
    "# 4. Delete $ *.kmc\\_* $ Files"
   ]
  },
  {
   "cell_type": "code",
   "execution_count": 9,
   "metadata": {
    "scrolled": false
   },
   "outputs": [],
   "source": [
    "\n",
    "def delete():\n",
    "    for k in range(low, up+1):\n",
    "        for seqNb in range(60000):\n",
    "            deleteRaw = ['del',\"/f\",\"/q\",'*.kmc*']\n",
    "            sp.call(deleteRaw,shell=True)\n",
    "# delete()"
   ]
  }
 ],
 "metadata": {
  "kernelspec": {
   "display_name": "Python 3",
   "language": "python",
   "name": "python3"
  },
  "language_info": {
   "codemirror_mode": {
    "name": "ipython",
    "version": 3
   },
   "file_extension": ".py",
   "mimetype": "text/x-python",
   "name": "python",
   "nbconvert_exporter": "python",
   "pygments_lexer": "ipython3",
   "version": "3.8.5"
  }
 },
 "nbformat": 4,
 "nbformat_minor": 4
}
