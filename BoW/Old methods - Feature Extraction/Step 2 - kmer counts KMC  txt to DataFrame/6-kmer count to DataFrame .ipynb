{
 "cells": [
  {
   "cell_type": "code",
   "execution_count": 7,
   "metadata": {},
   "outputs": [],
   "source": [
    "import numpy as np\n",
    "import pandas as pd\n",
    "from pandas import DataFrame\n",
    "import matplotlib.pyplot as plt\n",
    "from multiprocessing import Pool\n",
    "\n",
    "from typing import Sequence\n",
    "import itertools\n",
    "import pytest\n",
    "# ! pip install pyspark\n",
    "\n",
    "import dask.dataframe as dd\n",
    "\n",
    "#parallel\n",
    "import psutil\n",
    "import time\n",
    "import os\n",
    "from pathlib import Path\n"
   ]
  },
  {
   "cell_type": "markdown",
   "metadata": {},
   "source": [
    "### Create all features given a k-mer length"
   ]
  },
  {
   "cell_type": "code",
   "execution_count": 8,
   "metadata": {},
   "outputs": [],
   "source": [
    "#Define Kmer size \n",
    "k=6\n",
    "features = []\n",
    "\n",
    "def generate_all_kmers(k: int, alphabet=\"CGAT\") -> Sequence[str]:\n",
    "    \"\"\"generate all polymers of length k\n",
    "    Args:\n",
    "        k: length of the polymer\n",
    "        alphabet: base unit of the kmer, [C, G, A, T] for DNA\n",
    "    \"\"\"\n",
    "\n",
    "    def _generate_all_kmers(partial_kmers: Sequence[str]):\n",
    "        if len(partial_kmers[0]) == k:\n",
    "            return partial_kmers\n",
    "        return _generate_all_kmers(\n",
    "            partial_kmers=list(\n",
    "                itertools.chain.from_iterable(\n",
    "                    [partial_kmer + n for n in alphabet]\n",
    "                    for partial_kmer in partial_kmers\n",
    "                )\n",
    "            )\n",
    "        )\n",
    "\n",
    "    return _generate_all_kmers(alphabet)\n",
    "\n",
    "features = generate_all_kmers(k, alphabet=\"ACGT\")"
   ]
  },
  {
   "cell_type": "code",
   "execution_count": 9,
   "metadata": {},
   "outputs": [
    {
     "data": {
      "text/plain": [
       "4096"
      ]
     },
     "execution_count": 9,
     "metadata": {},
     "output_type": "execute_result"
    }
   ],
   "source": [
    "len(features)"
   ]
  },
  {
   "cell_type": "raw",
   "metadata": {},
   "source": [
    "# fileNames = []\n",
    "\n",
    "# for i in range(0, 60000):\n",
    "#     s = 'kmers-' + str(k) +'-seqNb-'+ str(i) + '.txt'\n",
    "#     fileNames.append(s)\n",
    "# # print(fileNames)\n",
    "pd.options.display.max_rows = 5\n",
    "pd.options.display.max_columns = 10"
   ]
  },
  {
   "cell_type": "markdown",
   "metadata": {},
   "source": [
    "### Import kmer count files and transform into dataframe"
   ]
  },
  {
   "cell_type": "code",
   "execution_count": 38,
   "metadata": {},
   "outputs": [
    {
     "data": {
      "text/html": [
       "<div>\n",
       "<style scoped>\n",
       "    .dataframe tbody tr th:only-of-type {\n",
       "        vertical-align: middle;\n",
       "    }\n",
       "\n",
       "    .dataframe tbody tr th {\n",
       "        vertical-align: top;\n",
       "    }\n",
       "\n",
       "    .dataframe thead th {\n",
       "        text-align: right;\n",
       "    }\n",
       "</style>\n",
       "<table border=\"1\" class=\"dataframe\">\n",
       "  <thead>\n",
       "    <tr style=\"text-align: right;\">\n",
       "      <th></th>\n",
       "      <th>AAAAAA</th>\n",
       "      <th>AAAAAC</th>\n",
       "      <th>AAAAAG</th>\n",
       "      <th>AAAAAT</th>\n",
       "      <th>AAAACA</th>\n",
       "      <th>...</th>\n",
       "      <th>TTTTGT</th>\n",
       "      <th>TTTTTA</th>\n",
       "      <th>TTTTTC</th>\n",
       "      <th>TTTTTG</th>\n",
       "      <th>TTTTTT</th>\n",
       "    </tr>\n",
       "  </thead>\n",
       "  <tbody>\n",
       "  </tbody>\n",
       "</table>\n",
       "<p>0 rows × 4096 columns</p>\n",
       "</div>"
      ],
      "text/plain": [
       "Empty DataFrame\n",
       "Columns: [AAAAAA, AAAAAC, AAAAAG, AAAAAT, AAAACA, AAAACC, AAAACG, AAAACT, AAAAGA, AAAAGC, AAAAGG, AAAAGT, AAAATA, AAAATC, AAAATG, AAAATT, AAACAA, AAACAC, AAACAG, AAACAT, AAACCA, AAACCC, AAACCG, AAACCT, AAACGA, AAACGC, AAACGG, AAACGT, AAACTA, AAACTC, AAACTG, AAACTT, AAAGAA, AAAGAC, AAAGAG, AAAGAT, AAAGCA, AAAGCC, AAAGCG, AAAGCT, AAAGGA, AAAGGC, AAAGGG, AAAGGT, AAAGTA, AAAGTC, AAAGTG, AAAGTT, AAATAA, AAATAC, AAATAG, AAATAT, AAATCA, AAATCC, AAATCG, AAATCT, AAATGA, AAATGC, AAATGG, AAATGT, AAATTA, AAATTC, AAATTG, AAATTT, AACAAA, AACAAC, AACAAG, AACAAT, AACACA, AACACC, AACACG, AACACT, AACAGA, AACAGC, AACAGG, AACAGT, AACATA, AACATC, AACATG, AACATT, AACCAA, AACCAC, AACCAG, AACCAT, AACCCA, AACCCC, AACCCG, AACCCT, AACCGA, AACCGC, AACCGG, AACCGT, AACCTA, AACCTC, AACCTG, AACCTT, AACGAA, AACGAC, AACGAG, AACGAT, ...]\n",
       "Index: []\n",
       "\n",
       "[0 rows x 4096 columns]"
      ]
     },
     "metadata": {},
     "output_type": "display_data"
    },
    {
     "name": "stdout",
     "output_type": "stream",
     "text": [
      "Runtime of the program is 1.1089942455291748 secs\n"
     ]
    },
    {
     "data": {
      "text/html": [
       "<div>\n",
       "<style scoped>\n",
       "    .dataframe tbody tr th:only-of-type {\n",
       "        vertical-align: middle;\n",
       "    }\n",
       "\n",
       "    .dataframe tbody tr th {\n",
       "        vertical-align: top;\n",
       "    }\n",
       "\n",
       "    .dataframe thead th {\n",
       "        text-align: right;\n",
       "    }\n",
       "</style>\n",
       "<table border=\"1\" class=\"dataframe\">\n",
       "  <thead>\n",
       "    <tr style=\"text-align: right;\">\n",
       "      <th></th>\n",
       "      <th>AAAAAA</th>\n",
       "      <th>AAAAAC</th>\n",
       "      <th>AAAAAG</th>\n",
       "      <th>AAAAAT</th>\n",
       "      <th>AAAACA</th>\n",
       "      <th>...</th>\n",
       "      <th>TTTTGT</th>\n",
       "      <th>TTTTTA</th>\n",
       "      <th>TTTTTC</th>\n",
       "      <th>TTTTTG</th>\n",
       "      <th>TTTTTT</th>\n",
       "    </tr>\n",
       "  </thead>\n",
       "  <tbody>\n",
       "    <tr>\n",
       "      <th>0</th>\n",
       "      <td>6</td>\n",
       "      <td>6</td>\n",
       "      <td>3</td>\n",
       "      <td>3</td>\n",
       "      <td>2</td>\n",
       "      <td>...</td>\n",
       "      <td>3</td>\n",
       "      <td>NaN</td>\n",
       "      <td>4</td>\n",
       "      <td>5</td>\n",
       "      <td>4</td>\n",
       "    </tr>\n",
       "    <tr>\n",
       "      <th>1</th>\n",
       "      <td>2</td>\n",
       "      <td>NaN</td>\n",
       "      <td>2</td>\n",
       "      <td>NaN</td>\n",
       "      <td>2</td>\n",
       "      <td>...</td>\n",
       "      <td>2</td>\n",
       "      <td>3</td>\n",
       "      <td>2</td>\n",
       "      <td>NaN</td>\n",
       "      <td>3</td>\n",
       "    </tr>\n",
       "    <tr>\n",
       "      <th>2</th>\n",
       "      <td>NaN</td>\n",
       "      <td>NaN</td>\n",
       "      <td>4</td>\n",
       "      <td>2</td>\n",
       "      <td>2</td>\n",
       "      <td>...</td>\n",
       "      <td>NaN</td>\n",
       "      <td>3</td>\n",
       "      <td>5</td>\n",
       "      <td>NaN</td>\n",
       "      <td>4</td>\n",
       "    </tr>\n",
       "  </tbody>\n",
       "</table>\n",
       "<p>3 rows × 4096 columns</p>\n",
       "</div>"
      ],
      "text/plain": [
       "  AAAAAA AAAAAC AAAAAG AAAAAT AAAACA  ... TTTTGT TTTTTA TTTTTC TTTTTG TTTTTT\n",
       "0      6      6      3      3      2  ...      3    NaN      4      5      4\n",
       "1      2    NaN      2    NaN      2  ...      2      3      2    NaN      3\n",
       "2    NaN    NaN      4      2      2  ...    NaN      3      5    NaN      4\n",
       "\n",
       "[3 rows x 4096 columns]"
      ]
     },
     "metadata": {},
     "output_type": "display_data"
    }
   ],
   "source": [
    "import time\n",
    "k=6\n",
    "df = pd.DataFrame(columns=features)\n",
    "display(df)\n",
    "countsPath = r\"D:\\DataSet\\MULTI\\bow\\\\\" + str(k)+\"mer\"\n",
    "start = time.time()\n",
    "# i = 0\n",
    "for i in range(0, 3):\n",
    "    sample = pd.read_fwf(countsPath + r'\\kmers-' + str(k) +'-seqNb-'+ str(i) + '.txt',sep=\" \", header=None).T\n",
    "    new_header = sample.iloc[0] #grab the first row for the header\n",
    "    sample = sample[1:] #take the data less the header row\n",
    "    sample.columns = new_header #set the header row as the df header\n",
    "#     print(sample)\n",
    "    df= df.append(sample, ignore_index=True)  #APPEND Sample to df DataSet\n",
    "\n",
    "    \n",
    "end = time.time()\n",
    "# total time taken\n",
    "print(f\"Runtime of the program is {end - start} secs\")\n",
    "\n",
    "\n",
    "#     display(sample)\n",
    "display(df)\n",
    "# df.head"
   ]
  },
  {
   "cell_type": "raw",
   "metadata": {},
   "source": [
    "sequential 600 rows  \n",
    "                    Runtime of the program is 293.8754131793976 secs\n",
    "                    Runtime of the program is 289.9889461994171 secs\n",
    "\n",
    "\n",
    "Parallel   600 rows\n",
    "                    Runtime of the program is 173.62739634513855 secs\n",
    "                    Runtime of the program is 168.65581917762756 secs\n",
    "\n",
    "\n"
   ]
  },
  {
   "cell_type": "code",
   "execution_count": null,
   "metadata": {},
   "outputs": [],
   "source": []
  },
  {
   "cell_type": "raw",
   "metadata": {},
   "source": [
    "600 rows sequential Runtime of the program is 956.6224915981293 secs\n"
   ]
  },
  {
   "cell_type": "code",
   "execution_count": 1,
   "metadata": {},
   "outputs": [],
   "source": [
    "# df.to_feather(r\"D:\\DataSet\\MULTI\\bow\\df-k\"+str(k)+\".feather\")"
   ]
  },
  {
   "cell_type": "code",
   "execution_count": 2,
   "metadata": {},
   "outputs": [],
   "source": [
    "# f.to_pickle(r\"D:\\DataSet\\MULTI\\100-6mers-DF\")\n"
   ]
  },
  {
   "cell_type": "markdown",
   "metadata": {},
   "source": [
    "### merge sample into single dataframe  using Dask\n",
    "## Result: This approach will not work as Dask doesn't support inserting series with missing values (unlike pandas, which fills Nan for them).\n",
    "### *ValueError: Length mismatch: Expected axis has 1455 elements, new values have 3072 elements"
   ]
  },
  {
   "cell_type": "code",
   "execution_count": 3,
   "metadata": {},
   "outputs": [],
   "source": [
    "\n",
    "# test = dd.read_csv(r'D:\\DataSet\\MULTI\\test bow\\raw count\\kmers-6-seqNb-*.txt', sep=\"\\t\", header=0, assume_missing=True)#, names=features)#, header= 0)# header=[:][0])\n",
    "# res=test.compute()\n",
    "# display(res)#,res3,res4, res5)\n"
   ]
  },
  {
   "cell_type": "markdown",
   "metadata": {},
   "source": [
    "## Transpose: This code transposes files, prerequisite for parallel approach."
   ]
  },
  {
   "cell_type": "code",
   "execution_count": null,
   "metadata": {},
   "outputs": [],
   "source": [
    "# for i in range(10):\n",
    "#     arr = np.genfromtxt(r\"D:\\DataSet\\MULTI\\test bow\\raw count\\kmers-6-seqNb-\"+str(i)+\".txt\", dtype='U').T\n",
    "#     arr\n",
    "#     np.savetxt(r\"D:\\DataSet\\MULTI\\test bow\\raw count\\kmers-6-seqNb-\"+str(i)+\".txt\", arr, delimiter=\"\\t\",fmt='%s')"
   ]
  },
  {
   "cell_type": "code",
   "execution_count": null,
   "metadata": {},
   "outputs": [],
   "source": []
  }
 ],
 "metadata": {
  "kernelspec": {
   "display_name": "Python 3",
   "language": "python",
   "name": "python3"
  },
  "language_info": {
   "codemirror_mode": {
    "name": "ipython",
    "version": 3
   },
   "file_extension": ".py",
   "mimetype": "text/x-python",
   "name": "python",
   "nbconvert_exporter": "python",
   "pygments_lexer": "ipython3",
   "version": "3.8.5"
  }
 },
 "nbformat": 4,
 "nbformat_minor": 4
}
