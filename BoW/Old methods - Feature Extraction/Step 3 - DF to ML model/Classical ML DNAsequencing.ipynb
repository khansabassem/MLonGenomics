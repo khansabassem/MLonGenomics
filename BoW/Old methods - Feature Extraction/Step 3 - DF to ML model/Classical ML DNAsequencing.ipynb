{
 "cells": [
  {
   "cell_type": "code",
   "execution_count": 40,
   "metadata": {
    "executionInfo": {
     "elapsed": 2580,
     "status": "ok",
     "timestamp": 1616682704760,
     "user": {
      "displayName": "Swiss Baz",
      "photoUrl": "https://lh3.googleusercontent.com/a-/AOh14GjXzlrRV6mp31muOP9-SkG2Bqe4yaRqjFrtEvNyUzQ=s64",
      "userId": "00750900217968553970"
     },
     "user_tz": -60
    },
    "id": "wV50vkA7hETb"
   },
   "outputs": [],
   "source": [
    "import numpy as np\n",
    "import pandas as pd\n",
    "from pandas import DataFrame\n",
    "import matplotlib.pyplot as plt\n",
    "import gc\n",
    "import timeit\n",
    "from Bio import SeqIO\n",
    "from sklearn.feature_extraction.text import CountVectorizer\n",
    "from sklearn.feature_selection import SelectPercentile\n",
    "from sklearn.feature_selection import chi2\n",
    "from sklearn.model_selection import train_test_split\n",
    "from sklearn.naive_bayes import GaussianNB\n",
    "from sklearn.metrics import accuracy_score, f1_score, precision_score, recall_score, plot_confusion_matrix\n",
    "from scipy import sparse\n",
    "import seaborn as sn\n",
    "from joblib import dump, load\n",
    "import multiprocessing as mp\n",
    "from pandarallel import pandarallel\n",
    "from sklearn.feature_selection import SelectKBest, chi2\n",
    "from sklearn.preprocessing import MaxAbsScaler, StandardScaler\n",
    "from sklearn.neighbors import KNeighborsClassifier\n",
    "from sklearn.linear_model import LogisticRegression\n",
    "from sklearn.svm import LinearSVC\n",
    "from sklearn.linear_model import SGDClassifier\n",
    "\n",
    "%matplotlib inline\n",
    "import time\n",
    "from sklearn.pipeline import make_pipeline\n",
    "from sklearn.svm import SVC\n",
    "from sklearn.metrics import classification_report, confusion_matrix\n",
    "from sklearn.model_selection import GridSearchCV\n"
   ]
  },
  {
   "cell_type": "markdown",
   "metadata": {},
   "source": [
    "## Import Labels\n"
   ]
  },
  {
   "cell_type": "code",
   "execution_count": 54,
   "metadata": {
    "executionInfo": {
     "elapsed": 1256,
     "status": "ok",
     "timestamp": 1616682704761,
     "user": {
      "displayName": "Swiss Baz",
      "photoUrl": "https://lh3.googleusercontent.com/a-/AOh14GjXzlrRV6mp31muOP9-SkG2Bqe4yaRqjFrtEvNyUzQ=s64",
      "userId": "00750900217968553970"
     },
     "user_tz": -60
    },
    "id": "mGsQk7QFhETi"
   },
   "outputs": [],
   "source": [
    "labels = []\n",
    "def importLabels():\n",
    "#     with open('./Data/shortlabels.txt', 'r') as filehandle:\n",
    "    with open('./Data/labels.txt', 'r') as filehandle:\n",
    "\n",
    "\n",
    "        for line in filehandle:\n",
    "            # remove linebreak, if exists, which is the last character of the string\n",
    "            if(line[-1] == \"\\n\"):\n",
    "                currentPlace = line[:-1]\n",
    "            else:\n",
    "                currentPlace = line[:]\n",
    "            # add item to the list\n",
    "            labels.append(currentPlace)\n",
    "importLabels()"
   ]
  },
  {
   "cell_type": "code",
   "execution_count": 55,
   "metadata": {},
   "outputs": [],
   "source": [
    "# print(labels)"
   ]
  },
  {
   "cell_type": "code",
   "execution_count": null,
   "metadata": {},
   "outputs": [],
   "source": []
  },
  {
   "cell_type": "markdown",
   "metadata": {},
   "source": [
    "## Import Identifiers, to be removed from kmer counts"
   ]
  },
  {
   "cell_type": "code",
   "execution_count": 56,
   "metadata": {
    "colab": {
     "base_uri": "https://localhost:8080/"
    },
    "executionInfo": {
     "elapsed": 1664,
     "status": "ok",
     "timestamp": 1616682706938,
     "user": {
      "displayName": "Swiss Baz",
      "photoUrl": "https://lh3.googleusercontent.com/a-/AOh14GjXzlrRV6mp31muOP9-SkG2Bqe4yaRqjFrtEvNyUzQ=s64",
      "userId": "00750900217968553970"
     },
     "user_tz": -60
    },
    "id": "3neGmOyihETj",
    "outputId": "54b21959-655c-49cc-f139-47549fb6f901"
   },
   "outputs": [],
   "source": [
    "# identifiers = [] # list\n",
    "\n",
    "\n",
    "# with open('./Data/sequences.fasta') as fasta_file:  # Will close handle cleanly\n",
    "# # with open('./Data/short.fasta') as fasta_file:  # Will close handle cleanly\n",
    "\n",
    "#     for seq_record in SeqIO.parse(fasta_file, 'fasta'):  # (generator)\n",
    "#         identifiers.append(seq_record.id)\n",
    "#         sequences.append(str(seq_record.seq))\n",
    "# display(identifiers)"
   ]
  },
  {
   "cell_type": "markdown",
   "metadata": {},
   "source": [
    "# Import Kmer counts data  from disc"
   ]
  },
  {
   "cell_type": "code",
   "execution_count": 57,
   "metadata": {},
   "outputs": [],
   "source": [
    "k=5\n",
    "#Data generated with old code\n",
    "# Xt = pd.read_pickle(r\"D:\\DataSet\\Data\\Generated kmers with old py code\\4-5-Kmers-60,000 samples\")\n",
    "\n",
    "# data generated with Linux kmer counter code, 4-5-6-kmers\n",
    "# Xt = pd.read_pickle(r\"D:\\DataSet\\Data\\Generated kmers with old py code\\4-5-Kmers-60,000 samples\")\n",
    "\n",
    "X = pd.read_feather(r\"D:\\DataSet\\MULTI\\bow\\df-k\"+str(k)+\".feather\")"
   ]
  },
  {
   "cell_type": "code",
   "execution_count": 58,
   "metadata": {},
   "outputs": [],
   "source": [
    "X.fillna(0, inplace=True)\n",
    "\n",
    "\n",
    "# labels = []\n",
    "# importLabels()"
   ]
  },
  {
   "cell_type": "markdown",
   "metadata": {},
   "source": [
    "# Transform data from BagOfWords to Tf-Idf"
   ]
  },
  {
   "cell_type": "code",
   "execution_count": 66,
   "metadata": {},
   "outputs": [],
   "source": [
    "from sklearn.feature_extraction.text import TfidfTransformer\n",
    "tfidfconverter = TfidfTransformer()\n",
    "\n",
    "X = tfidfconverter.fit_transform(X).toarray()"
   ]
  },
  {
   "cell_type": "code",
   "execution_count": 67,
   "metadata": {},
   "outputs": [
    {
     "data": {
      "text/plain": [
       "array([[0.04978968, 0.04382222, 0.03557708, ..., 0.02463768, 0.03285845,\n",
       "        0.03870272],\n",
       "       [0.02354684, 0.0186522 , 0.01863729, ..., 0.04194647, 0.02797131,\n",
       "        0.04235959],\n",
       "       [0.02852741, 0.01765427, 0.0458644 , ..., 0.04587816, 0.03176975,\n",
       "        0.04633   ],\n",
       "       ...,\n",
       "       [0.02813694, 0.03830779, 0.03131767, ..., 0.01044236, 0.02437159,\n",
       "        0.03163559],\n",
       "       [0.01650953, 0.02452073, 0.02450113, ..., 0.02995481, 0.02451461,\n",
       "        0.01924988],\n",
       "       [0.03024527, 0.04192693, 0.0418934 , ..., 0.01496642, 0.04790451,\n",
       "        0.03929592]])"
      ]
     },
     "metadata": {},
     "output_type": "display_data"
    }
   ],
   "source": [
    "display(X)"
   ]
  },
  {
   "cell_type": "markdown",
   "metadata": {},
   "source": [
    "# Feature Selection Select best features"
   ]
  },
  {
   "cell_type": "code",
   "execution_count": 47,
   "metadata": {},
   "outputs": [],
   "source": [
    "\n",
    "\n",
    "selector = SelectPercentile(score_func=chi2, percentile=100) \n",
    "selector = SelectKBest(chi2, k=500)\n",
    "X = selector.fit_transform(X, labels)\n"
   ]
  },
  {
   "cell_type": "markdown",
   "metadata": {},
   "source": [
    "# Scale Data and Train"
   ]
  },
  {
   "cell_type": "code",
   "execution_count": 34,
   "metadata": {},
   "outputs": [],
   "source": [
    "# max_abs_scaler = MaxAbsScaler()\n",
    "scaler = StandardScaler()\n",
    "X = scaler.fit_transform(X)\n"
   ]
  },
  {
   "cell_type": "code",
   "execution_count": 68,
   "metadata": {
    "id": "xEE5bPF0hETo"
   },
   "outputs": [],
   "source": [
    "\n",
    "X_train, X_test, y_train, y_test = train_test_split(X, \n",
    "                                                    labels, \n",
    "                                                    test_size = 0.20, \n",
    "                                                    random_state=42)"
   ]
  },
  {
   "cell_type": "code",
   "execution_count": 69,
   "metadata": {
    "colab": {
     "base_uri": "https://localhost:8080/"
    },
    "executionInfo": {
     "elapsed": 552,
     "status": "ok",
     "timestamp": 1616679219531,
     "user": {
      "displayName": "Swiss Baz",
      "photoUrl": "https://lh3.googleusercontent.com/a-/AOh14GjXzlrRV6mp31muOP9-SkG2Bqe4yaRqjFrtEvNyUzQ=s64",
      "userId": "00750900217968553970"
     },
     "user_tz": -60
    },
    "id": "18hBRBzthETo",
    "outputId": "78f21a13-e156-4b7a-ff65-b0d4bbe1425d"
   },
   "outputs": [
    {
     "name": "stdout",
     "output_type": "stream",
     "text": [
      "(48000, 1024)\n",
      "(12000, 1024)\n"
     ]
    }
   ],
   "source": [
    "print(X_train.shape)\n",
    "print(X_test.shape)"
   ]
  },
  {
   "cell_type": "code",
   "execution_count": 37,
   "metadata": {},
   "outputs": [],
   "source": [
    "# LinearSVC?\n",
    "\n"
   ]
  },
  {
   "cell_type": "markdown",
   "metadata": {},
   "source": [
    "## Select Model"
   ]
  },
  {
   "cell_type": "code",
   "execution_count": 70,
   "metadata": {
    "colab": {
     "base_uri": "https://localhost:8080/"
    },
    "executionInfo": {
     "elapsed": 488,
     "status": "ok",
     "timestamp": 1616679221401,
     "user": {
      "displayName": "Swiss Baz",
      "photoUrl": "https://lh3.googleusercontent.com/a-/AOh14GjXzlrRV6mp31muOP9-SkG2Bqe4yaRqjFrtEvNyUzQ=s64",
      "userId": "00750900217968553970"
     },
     "user_tz": -60
    },
    "id": "IGD7jnJOhETo",
    "outputId": "1d699fd7-64c8-4469-debf-4f618fcd3397"
   },
   "outputs": [
    {
     "name": "stdout",
     "output_type": "stream",
     "text": [
      "Runtime of fitting Pipeline(steps=[('standardscaler', StandardScaler()),\n",
      "                ('logisticregression',\n",
      "                 LogisticRegression(max_iter=500, random_state=0))])classifier is 9.097941160202026 secs\n"
     ]
    }
   ],
   "source": [
    "start = time.time()\n",
    "\n",
    "# clf = make_pipeline(StandardScaler(),GaussianNB()) ## Bad performance on kmers 4-5\n",
    "clf=  make_pipeline(StandardScaler(),LogisticRegression(random_state=0, max_iter=500).fit(X_train, y_train))\n",
    "\n",
    "# clf=  make_pipeline(StandardScaler(),LinearSVC(random_state=0, tol=1e-5, C=0.01, max_iter=2500))# Hyper Tuned\n",
    "\n",
    "# clf = make_pipeline(StandardScaler(), SGDClassifier(max_iter=1000, tol=1e-3))\n",
    "\n",
    "# clf = KNeighborsClassifier(n_neighbors=4, weights='distance')\n",
    "\n",
    "clf.fit(X_train, y_train)\n",
    "\n",
    "\n",
    "end = time.time()\n",
    "# total time taken\n",
    "print(f\"Runtime of fitting \"+ str(clf)+ f\"classifier is {end - start} secs\")\n",
    "\n"
   ]
  },
  {
   "cell_type": "raw",
   "metadata": {},
   "source": [
    "# clf?\n",
    "start = time.time()\n",
    "from sklearn.pipeline import Pipeline\n",
    "SVCpipe = Pipeline([('scale', StandardScaler()),\n",
    "                   ('SVC',LinearSVC())])\n",
    "  \n",
    "# defining parameter range\n",
    "\n",
    "param_grid = {'SVC__C':np.arange(0.01,100,10)}\n",
    "  \n",
    "linearSVC = GridSearchCV(SVCpipe,param_grid,cv=5,return_train_score=True)\n",
    "end = time.time()\n",
    "# total time taken\n",
    "print(f\"Runtime of GridSearch HyperParam tuning of \"+ str(clf)+ f\"classifier is {end - start} secs\")\n",
    "\n",
    "\n",
    "start = time.time()\n",
    "\n",
    "linearSVC.fit(X_train,y_train)\n",
    "\n",
    "end = time.time()\n",
    "# total time taken\n",
    "print(f\"Runtime of fitting \"+ str(clf)+ f\"classifier is {end - start} secs\")\n",
    "\n",
    "\n",
    "# print best parameter after tuning\n",
    "print(clf.best_params_)\n",
    "\n",
    "# print how our model looks after hyper-parameter tuning\n",
    "print(clf.best_estimator_)\n",
    "\n"
   ]
  },
  {
   "cell_type": "markdown",
   "metadata": {},
   "source": [
    "Runtime of GridSearchCV LinearSVC (random_state=0, tol=1e-05) classifier is 10416.215190410614 secs\n",
    "Best parameter after tuning: {'SVC__C': 0.01}\n",
    "\n",
    "Warnings: C:\\Users\\Bassem new\\anaconda3\\lib\\site-packages\\sklearn\\svm\\_base.py:976: ConvergenceWarning: Liblinear failed to converge, increase the number of iterations."
   ]
  },
  {
   "cell_type": "markdown",
   "metadata": {},
   "source": [
    "# GridSearch SVC model"
   ]
  },
  {
   "cell_type": "code",
   "execution_count": 15,
   "metadata": {},
   "outputs": [],
   "source": [
    "GridSearchCV?"
   ]
  },
  {
   "cell_type": "code",
   "execution_count": null,
   "metadata": {},
   "outputs": [
    {
     "name": "stdout",
     "output_type": "stream",
     "text": [
      "Fitting 5 folds for each of 25 candidates, totalling 125 fits\n"
     ]
    },
    {
     "name": "stderr",
     "output_type": "stream",
     "text": [
      "[Parallel(n_jobs=-1)]: Using backend LokyBackend with 8 concurrent workers.\n",
      "[Parallel(n_jobs=-1)]: Done  16 tasks      | elapsed: 259.8min\n"
     ]
    }
   ],
   "source": [
    "start = time.time()\n",
    "\n",
    "param_grid = {'C': [0.1, 1, 10, 100, 1000], \n",
    "              'gamma': [1, 0.1, 0.01, 0.001, 0.0001],\n",
    "              'kernel': ['rbf']} \n",
    "  \n",
    "grid = GridSearchCV(SVC(), param_grid, n_jobs=-1, refit = True, verbose = 3)\n",
    "\n",
    "\n",
    "#fitting the model for grid search\n",
    "grid.fit(X_train, y_train)\n",
    "\n",
    "end = time.time()\n",
    "# total time taken\n",
    "print(f\"Runtime of GridSearch HyperParam tuning of \"+ str(grid)+ f\"classifier is {end - start} secs\")\n"
   ]
  },
  {
   "cell_type": "code",
   "execution_count": 71,
   "metadata": {},
   "outputs": [
    {
     "name": "stdout",
     "output_type": "stream",
     "text": [
      "              precision    recall  f1-score   support\n",
      "\n",
      "           0       0.58      0.59      0.59      5969\n",
      "           1       0.59      0.58      0.59      6031\n",
      "\n",
      "    accuracy                           0.59     12000\n",
      "   macro avg       0.59      0.59      0.59     12000\n",
      "weighted avg       0.59      0.59      0.59     12000\n",
      "\n"
     ]
    }
   ],
   "source": [
    "y_pred = clf.predict(X_test)\n",
    "\n",
    "# print classification report\n",
    "print(classification_report(y_test, y_pred))\n"
   ]
  },
  {
   "cell_type": "code",
   "execution_count": null,
   "metadata": {},
   "outputs": [],
   "source": []
  },
  {
   "cell_type": "code",
   "execution_count": null,
   "metadata": {
    "id": "u5LLSXIzhETp"
   },
   "outputs": [],
   "source": [
    "\n",
    "# y_pred = clf.predict(X_test)"
   ]
  },
  {
   "cell_type": "code",
   "execution_count": 72,
   "metadata": {
    "colab": {
     "base_uri": "https://localhost:8080/"
    },
    "executionInfo": {
     "elapsed": 569,
     "status": "ok",
     "timestamp": 1616679239831,
     "user": {
      "displayName": "Swiss Baz",
      "photoUrl": "https://lh3.googleusercontent.com/a-/AOh14GjXzlrRV6mp31muOP9-SkG2Bqe4yaRqjFrtEvNyUzQ=s64",
      "userId": "00750900217968553970"
     },
     "user_tz": -60
    },
    "id": "uOEeL7ODhETp",
    "outputId": "9239b0a4-b932-4655-9fce-3447d3073d37"
   },
   "outputs": [
    {
     "name": "stdout",
     "output_type": "stream",
     "text": [
      "accuracy = 0.588 \n",
      "precision = 0.588 \n",
      "recall = 0.587 \n",
      "f1 = 0.588\n"
     ]
    }
   ],
   "source": [
    "\n",
    "\n",
    "# print(\"Confusion matrix\\n\")\n",
    "def get_metrics(y_test, y_predicted):\n",
    "    accuracy = accuracy_score(y_test, y_predicted)\n",
    "    precision = precision_score(y_test, y_predicted, average='weighted')\n",
    "    recall = recall_score(y_test, y_predicted, average='weighted')\n",
    "    f1 = f1_score(y_test, y_predicted, average='weighted')\n",
    "    return accuracy, precision, recall, f1\n",
    "accuracy, precision, recall, f1 = get_metrics(y_test, y_pred)\n",
    "print(\"accuracy = %.3f \\nprecision = %.3f \\nrecall = %.3f \\nf1 = %.3f\" % (accuracy, precision, recall, f1))\n",
    "\n",
    "# pd.crosstab(pd.Series(y_test, name='Actual'), pd.Series(y_pred, name='Predicted'))\n",
    "\n"
   ]
  },
  {
   "cell_type": "raw",
   "metadata": {},
   "source": [
    "LinearSVC(random_state=0, tol=1e-5, C=0.01, max_iter=2500)) # Hyper Tuned\n",
    "accuracy = 0.590 \n",
    "precision = 0.590 \n",
    "recall = 0.590 \n",
    "f1 = 0.589\n",
    "\n",
    "\n",
    "SGDClassifier:\n",
    "accuracy = 0.568 \n",
    "precision = 0.568 \n",
    "recall = 0.568 \n",
    "f1 = 0.568\n",
    "\n",
    "\n",
    "KNeighborsClassifier(n_neighbors=4, weights='distance'):\n",
    "accuracy = 0.502 \n",
    "precision = 0.502 \n",
    "recall = 0.502 \n",
    "f1 = 0.502\n",
    "\n",
    "Logistic Regression with tf.idf layer: \n",
    "accuracy = 0.588 \n",
    "precision = 0.588 \n",
    "recall = 0.587 \n",
    "f1 = 0.588\n"
   ]
  },
  {
   "cell_type": "code",
   "execution_count": 65,
   "metadata": {
    "colab": {
     "base_uri": "https://localhost:8080/",
     "height": 329
    },
    "executionInfo": {
     "elapsed": 962,
     "status": "ok",
     "timestamp": 1616679245737,
     "user": {
      "displayName": "Swiss Baz",
      "photoUrl": "https://lh3.googleusercontent.com/a-/AOh14GjXzlrRV6mp31muOP9-SkG2Bqe4yaRqjFrtEvNyUzQ=s64",
      "userId": "00750900217968553970"
     },
     "user_tz": -60
    },
    "id": "jqvAWpGUhETp",
    "outputId": "e4185db8-9982-4c15-8246-f9f5a7eeff1d",
    "scrolled": true
   },
   "outputs": [
    {
     "data": {
      "text/plain": [
       "array([[3538, 2431],\n",
       "       [2531, 3500]], dtype=int64)"
      ]
     },
     "execution_count": 65,
     "metadata": {},
     "output_type": "execute_result"
    },
    {
     "data": {
      "image/png": "[encoded data removed]",
      "text/plain": [
       "<Figure size 432x288 with 2 Axes>"
      ]
     },
     "metadata": {
      "needs_background": "light"
     },
     "output_type": "display_data"
    }
   ],
   "source": [
    "class_names = ['True', 'False']\n",
    "disp = plot_confusion_matrix(clf, X_test, y_test,\n",
    "                             display_labels=class_names,\n",
    "                             cmap=plt.cm.BuGn)\n",
    "disp.ax_.set_title('Confusion Matrix')\n",
    "disp.confusion_matrix\n",
    "\n"
   ]
  },
  {
   "cell_type": "code",
   "execution_count": null,
   "metadata": {
    "id": "yy8YSWgmhETp"
   },
   "outputs": [],
   "source": [
    "# sn.heatmap(pd.crosstab(pd.Series(y_test, name='Actual'), pd.Series(y_pred, name='Predicted')), annot=True,cmap=\"OrRd\")\n",
    "# dump(clf, './saved/clf.joblib') \n",
    "# clf = load('./saved/clf.joblib') "
   ]
  },
  {
   "cell_type": "code",
   "execution_count": null,
   "metadata": {
    "id": "BeIYSu7ZhETq"
   },
   "outputs": [],
   "source": []
  },
  {
   "cell_type": "code",
   "execution_count": null,
   "metadata": {
    "id": "fqurFUCNhETq"
   },
   "outputs": [],
   "source": []
  }
 ],
 "metadata": {
  "colab": {
   "collapsed_sections": [],
   "name": "Parallel of DNAsequencing.ipynb",
   "provenance": [
    {
     "file_id": "1i18NqNHMNQn_ZW-JCNOdYdWAZBc747mY",
     "timestamp": 1616681546116
    }
   ],
   "toc_visible": true
  },
  "kernelspec": {
   "display_name": "Python 3",
   "language": "python",
   "name": "python3"
  },
  "language_info": {
   "codemirror_mode": {
    "name": "ipython",
    "version": 3
   },
   "file_extension": ".py",
   "mimetype": "text/x-python",
   "name": "python",
   "nbconvert_exporter": "python",
   "pygments_lexer": "ipython3",
   "version": "3.8.5"
  }
 },
 "nbformat": 4,
 "nbformat_minor": 1
}
