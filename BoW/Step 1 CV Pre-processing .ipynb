{
 "cells": [
  {
   "cell_type": "code",
   "execution_count": 1,
   "metadata": {},
   "outputs": [
    {
     "name": "stderr",
     "output_type": "stream",
     "text": [
      "Enabling notebook extension jupyter-js-widgets/extension...\n",
      "      - Validating: ok\n"
     ]
    }
   ],
   "source": [
    "import numpy as np\n",
    "import pandas as pd\n",
    "from pandas import DataFrame\n",
    "import gc\n",
    "import timeit\n",
    "from Bio import SeqIO\n",
    "from joblib import dump, load\n",
    "import multiprocessing as mp\n",
    "import time\n",
    "%matplotlib inline\n",
    "import pickle\n",
    "from tqdm.auto import tqdm\n",
    "import ipywidgets\n",
    "tqdm.pandas()\n",
    "from ipywidgets import IntProgress\n",
    "! jupyter nbextension enable --py widgetsnbextension"
   ]
  },
  {
   "cell_type": "markdown",
   "metadata": {},
   "source": [
    "## Step 1 Generate kmers of size k\n",
    "\n",
    "## !!! This code is run once. In step 2 load processed data written on disk !!!\n",
    "\n",
    "## splits = 6  works well for this data and 16gb RAM\n",
    "\n",
    "## For smaller memory size, Higher number of splits may be needed. "
   ]
  },
  {
   "cell_type": "code",
   "execution_count": null,
   "metadata": {},
   "outputs": [
    {
     "data": {
      "application/vnd.jupyter.widget-view+json": {
       "model_id": "62d07c40614140e984d85604f38d045e",
       "version_major": 2,
       "version_minor": 0
      },
      "text/plain": [
       "  0%|          | 0/10000 [00:00<?, ?it/s]"
      ]
     },
     "metadata": {},
     "output_type": "display_data"
    },
    {
     "data": {
      "application/vnd.jupyter.widget-view+json": {
       "model_id": "395d2d0237ab4280a9f88c177903d23a",
       "version_major": 2,
       "version_minor": 0
      },
      "text/plain": [
       "  0%|          | 0/10000 [00:00<?, ?it/s]"
      ]
     },
     "metadata": {},
     "output_type": "display_data"
    },
    {
     "data": {
      "application/vnd.jupyter.widget-view+json": {
       "model_id": "7cfbfae09cf64925970d4187024b8107",
       "version_major": 2,
       "version_minor": 0
      },
      "text/plain": [
       "  0%|          | 0/10000 [00:00<?, ?it/s]"
      ]
     },
     "metadata": {},
     "output_type": "display_data"
    },
    {
     "data": {
      "application/vnd.jupyter.widget-view+json": {
       "model_id": "f283628a572b4acebdd684a0e5bd19a2",
       "version_major": 2,
       "version_minor": 0
      },
      "text/plain": [
       "  0%|          | 0/10000 [00:00<?, ?it/s]"
      ]
     },
     "metadata": {},
     "output_type": "display_data"
    },
    {
     "data": {
      "application/vnd.jupyter.widget-view+json": {
       "model_id": "a220ac746d46475dab4723a018600e4a",
       "version_major": 2,
       "version_minor": 0
      },
      "text/plain": [
       "  0%|          | 0/10000 [00:00<?, ?it/s]"
      ]
     },
     "metadata": {},
     "output_type": "display_data"
    },
    {
     "data": {
      "application/vnd.jupyter.widget-view+json": {
       "model_id": "de650fe4866a4c50b164b7421032c16d",
       "version_major": 2,
       "version_minor": 0
      },
      "text/plain": [
       "  0%|          | 0/10000 [00:00<?, ?it/s]"
      ]
     },
     "metadata": {},
     "output_type": "display_data"
    }
   ],
   "source": [
    "###############################################################################\n",
    "#        Conversion step 1: Extract kmers from DNA into a list of kmers       #\n",
    "###############################################################################\n",
    "\n",
    "k=10\n",
    "\n",
    "split = 6\n",
    "columnName = str(k)+\"mers\"\n",
    "gc.enable()\n",
    "# gc.disable()\n",
    "###############################################################################\n",
    "#                            Read fasta sequences                              #\n",
    "###############################################################################\n",
    "\n",
    "# \n",
    "from Bio import SeqIO\n",
    "#chromid = []\n",
    "chromseq = []\n",
    "for sample in SeqIO.parse('D:\\DataSet\\Data\\sequences.fasta', \"fasta\"):\n",
    "    #chromid.append(sample.id)\n",
    "    chromseq.append(str(sample.seq))\n",
    "\n",
    "\n",
    "###############################################################################\n",
    "#             function that extracts kmers of size k from a sequence          #\n",
    "###############################################################################\n",
    "def getKmers(sequence, size=k):\n",
    "# Scan the sequence with a window of the given size and add\n",
    "    return [sequence[x:x+size].lower() for x in range(len(sequence) - size + 1)]\n",
    "\n",
    "###############################################################################\n",
    "#      Split the data in multiple splits to reduce RAM-DISK hard faults       #\n",
    "###############################################################################\n",
    "splits =np.array_split(pd.DataFrame(chromseq,columns=['seq']), split)\n",
    "\n",
    "\n",
    "###############################################################################\n",
    "#     For each split, extract kmers   & write result to disk in chunks        #\n",
    "###############################################################################\n",
    "start = time.time()\n",
    "for i in range(split):\n",
    "\n",
    "    DataFrame(splits[i].progress_apply(lambda x: getKmers(x['seq']), axis=1), columns=[columnName]).reset_index().to_feather(r\"D:\\DataSet\\LSTMonBoW\\k\"+str(k)+\"-part-\"+str(i)+\"-kmer.feather\")\n",
    "    #free memory\n",
    "    gc.collect()\n",
    "    end = time.time()\n",
    "#     total time taken\n",
    "print(f\"Runtime is {end - start} secs\")"
   ]
  },
  {
   "cell_type": "code",
   "execution_count": 5,
   "metadata": {},
   "outputs": [],
   "source": [
    "# !jupyter nbconvert --to webpdf --allow-chromium-download \"Step 1 CV Pre-processing .ipynb\""
   ]
  },
  {
   "cell_type": "code",
   "execution_count": null,
   "metadata": {},
   "outputs": [],
   "source": []
  },
  {
   "cell_type": "code",
   "execution_count": null,
   "metadata": {},
   "outputs": [],
   "source": []
  }
 ],
 "metadata": {
  "kernelspec": {
   "display_name": "Python 3",
   "language": "python",
   "name": "python3"
  },
  "language_info": {
   "codemirror_mode": {
    "name": "ipython",
    "version": 3
   },
   "file_extension": ".py",
   "mimetype": "text/x-python",
   "name": "python",
   "nbconvert_exporter": "python",
   "pygments_lexer": "ipython3",
   "version": "3.8.5"
  }
 },
 "nbformat": 4,
 "nbformat_minor": 4
}
