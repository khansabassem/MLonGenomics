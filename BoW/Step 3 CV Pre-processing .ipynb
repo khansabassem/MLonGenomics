{
 "cells": [
  {
   "cell_type": "code",
   "execution_count": 1,
   "metadata": {},
   "outputs": [],
   "source": [
    "\n",
    "import numpy as np\n",
    "import pandas as pd\n",
    "from pandas import DataFrame\n",
    "import gc\n",
    "import timeit\n",
    "from Bio import SeqIO\n",
    "from joblib import dump, load\n",
    "import multiprocessing as mp\n",
    "import time\n",
    "%matplotlib inline\n",
    "import pickle\n",
    "from tqdm.auto import tqdm\n",
    "import ipywidgets\n",
    "tqdm.pandas()\n",
    "from ipywidgets import IntProgress\n",
    "from Bio import SeqIO\n",
    "from sklearn.feature_extraction.text import CountVectorizer\n",
    "from sklearn.feature_selection import SelectPercentile, chi2, SelectFromModel"
   ]
  },
  {
   "cell_type": "markdown",
   "metadata": {},
   "source": [
    "# Step 3 Load the space separated kmers of kmers into dataframe, to be fed to Count Vectorizer\n",
    "### once done, kill the kernel to free memory.\n",
    "Now your features are extracted and you can later load the dataframe from disk for training model \n",
    "# !Attention, for k>=8, a ~30GiB of Memory is needed\n",
    "MemoryError: Unable to allocate 29.3 GiB for an array with shape (60000, 65536) and data type int64\n",
    "To mitigate this, we can write the compact matrix X_cv directly to disk (6.5GB for k=8) like in section 2 below, and load it later transforming it into a DataFrame using slicing and use  SGDClassifier to partially train a model with each batch (slice) that fits in memory (10 batches for example)."
   ]
  },
  {
   "cell_type": "code",
   "execution_count": 2,
   "metadata": {},
   "outputs": [
    {
     "name": "stdout",
     "output_type": "stream",
     "text": [
      "number of samples loaded : 60000\n",
      "Runtime of kmer counting of size: 4 using Word Vectorizer is 589.4460277557373 secs\n"
     ]
    }
   ],
   "source": [
    "###############################################################################\n",
    "#        Conversion step 3: Use Word Vectorizer to count kmer occurences      #\n",
    "###############################################################################\n",
    "#precise size of k from previous steps\n",
    "k=4\n",
    "\n",
    "# enable automatic garbage collector to help free unused memory\n",
    "gc.enable()\n",
    "# gc.disable()\n",
    "start = time.time()\n",
    "###############################################################################\n",
    "#   load file containing space separated kmers, the result of the last step   #\n",
    "###############################################################################\n",
    "\n",
    "with open(r\"D:\\DataSet\\TfIdf\\spaced words-\"+str(k), 'rb') as filehandle:\n",
    "     textword = pickle.load(filehandle)\n",
    "print(\"number of samples loaded :\", len(textword))\n",
    "\n",
    "cv = CountVectorizer() # Default ngram_range (1, 1)\n",
    "\n",
    "###############################################################################\n",
    "#in case of k=1, one character word, use this instead\n",
    "###############################################################################\n",
    "# cv = CountVectorizer(analyzer='char') # \n",
    "\n",
    "X_cv = cv.fit_transform(textword)\n",
    "\n",
    "# Get the header, the name of columns\n",
    "cols=cv.get_feature_names()\n",
    "\n",
    "# Transform into Pandas Data Frame\n",
    "X = pd.DataFrame(X_cv.toarray(), columns=cols)\n",
    "\n",
    "#  View the converted matrix\n",
    "X.head(10)\n",
    "\n",
    "###############################################################################\n",
    "#Write resulting Data Frame on disk. Feather is very fast format for loading  #\n",
    "###############################################################################\n",
    "X.reset_index(drop = True).to_feather(r\"D:\\DataSet\\TfIdf\\dfk\"+str(k)+\".feather\")\n",
    "\n",
    "# total time taken\n",
    "end = time.time()\n",
    "print(f\"Runtime of kmer counting of size: \"+ str(k)+ f\" using Word Vectorizer is {end - start} secs\")"
   ]
  },
  {
   "cell_type": "markdown",
   "metadata": {},
   "source": [
    "#### K=1 : Runtime of kmer counting is 324 secs\n",
    "#### K=2 : Runtime of kmer counting is 368 secs\n",
    "#### K=3 : Runtime of kmer counting is 491  secs\n",
    "#### K=4 : Runtime of kmer counting is 655 secs\n",
    "  \n",
    "#### K=5 : Runtime of kmer counting is 827 secs\n",
    "#### K=6 : Runtime of kmer counting is 1041secs\n",
    "#### K=7 : Runtime of kmer counting is 1467 secs\n"
   ]
  },
  {
   "cell_type": "code",
   "execution_count": 23,
   "metadata": {},
   "outputs": [],
   "source": []
  },
  {
   "cell_type": "code",
   "execution_count": null,
   "metadata": {},
   "outputs": [],
   "source": []
  }
 ],
 "metadata": {
  "kernelspec": {
   "display_name": "Python 3",
   "language": "python",
   "name": "python3"
  },
  "language_info": {
   "codemirror_mode": {
    "name": "ipython",
    "version": 3
   },
   "file_extension": ".py",
   "mimetype": "text/x-python",
   "name": "python",
   "nbconvert_exporter": "python",
   "pygments_lexer": "ipython3",
   "version": "3.8.5"
  }
 },
 "nbformat": 4,
 "nbformat_minor": 4
}
