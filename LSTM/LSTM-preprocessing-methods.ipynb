{
 "cells": [
  {
   "cell_type": "markdown",
   "metadata": {},
   "source": [
    "# Preprocessing mini scripts useful for the multiple LSTM sub-pipelines"
   ]
  },
  {
   "cell_type": "markdown",
   "metadata": {
    "id": "Siad-LjPwyyV"
   },
   "source": [
    "# Disclaimer:\n",
    "\n",
    "##### This notebook is a sandbox and it evolved with the project. Code snippets were added progressively. Using this code requires understanding of the pipeline presented in the report. \n",
    "##### It remains a sandbox, partly because no positive classification accuracy was obtained.\n",
    "##### This script contains many steps, not necessarily interdependent and not neccessarily respecting a certain order. \n",
    "##### Each part has a certain utility, allowing flexible experimenting, and avoiding redundance in multiple scripts.\n",
    "##### CHECKPOINTS are, as name tells, checkpoint for loading/saving processed data. This is useful to save time "
   ]
  },
  {
   "cell_type": "code",
   "execution_count": null,
   "metadata": {
    "id": "4tWK7Lrt4dB7"
   },
   "outputs": [],
   "source": [
    "# !pip install keras\n",
    "# !pip install tensorflow\n",
    "# !pip install numpy\n",
    "# !pip install Bio \n",
    "# !pip install tensorflow_addons\n"
   ]
  },
  {
   "cell_type": "code",
   "execution_count": 1,
   "metadata": {
    "id": "Wt_gSRnUyHPw",
    "scrolled": true
   },
   "outputs": [],
   "source": [
    "import numpy as np\n",
    "import pickle\n",
    "# import swifter\n",
    "import gc\n",
    "import timeit\n",
    "import pandas as pd\n",
    "from Bio import SeqIO\n",
    "import time\n",
    "%matplotlib inline\n",
    "import pickle\n",
    "from tqdm.auto import tqdm\n",
    "\n",
    "from keras.models import Sequential\n",
    "from keras.layers import Dense, Bidirectional\n",
    "from keras.layers import LSTM\n",
    "from keras.layers.embeddings import Embedding\n",
    "from keras.preprocessing import sequence\n",
    "# fix random seed for reproducibility\n",
    "from sklearn.model_selection import train_test_split\n",
    "import tensorflow as tf"
   ]
  },
  {
   "cell_type": "markdown",
   "metadata": {},
   "source": [
    "## some toy code to test the numpy.pad() method"
   ]
  },
  {
   "cell_type": "code",
   "execution_count": 68,
   "metadata": {},
   "outputs": [
    {
     "data": {
      "text/plain": [
       "[array([1, 2, 3, 4, 5, 6, 7, 8, 9]),\n",
       " array([1, 2, 3, 2, 1, 2, 3, 2, 1]),\n",
       " array(['1', 'a', 'hi', 'a', '1', 'a', 'hi', 'a', '1'], dtype='<U11')]"
      ]
     },
     "execution_count": 68,
     "metadata": {},
     "output_type": "execute_result"
    }
   ],
   "source": [
    "sequences =np.array([[1,2,3,4,5,6,7,8,9], [1,2,3], [1,'a','hi']],dtype=object)#, ['a','b','c'], ['a','b'], ['a','b','c','d','e'], ['a','b','c','d','e','f','g','h']])\n",
    "maxlen = len(max(sequences, key=len))\n",
    "strSeq = [np.pad(seq, (0, maxlen-len(seq)), 'reflect') for seq in sequences]\n",
    "strSeq"
   ]
  },
  {
   "cell_type": "markdown",
   "metadata": {
    "id": "8l1grADPnO7Y"
   },
   "source": [
    "## Sequence processing and Padding (repeat vs zero padding)\n",
    "Colabs session crashes with training model on data length 14999 "
   ]
  },
  {
   "cell_type": "code",
   "execution_count": 71,
   "metadata": {
    "id": "33oMXIVoyHP0"
   },
   "outputs": [],
   "source": [
    "# # Read fasta sequence\n",
    "# from Bio import SeqIO\n",
    "# # chromid = []\n",
    "# sequences = []\n",
    "# # sequences = np.empty(shape=(0),dtype=object)\n",
    "# for sample in SeqIO.parse(r'D:\\DataSet\\Data\\sequences.fasta', \"fasta\"):\n",
    "#     # chromid.append(sample.id)\n",
    "#     sequences.append(list(str(sample.seq)))\n",
    "# #     sequences = np.append(sequences,str(sample.seq))\n",
    "\n"
   ]
  },
  {
   "cell_type": "markdown",
   "metadata": {},
   "source": [
    "## Zero padding"
   ]
  },
  {
   "cell_type": "code",
   "execution_count": null,
   "metadata": {},
   "outputs": [],
   "source": [
    "# Padding with zeros\n",
    "strSeq = sequence.pad_sequences(sequences, dtype=object, padding='post', value = \"Z\")"
   ]
  },
  {
   "cell_type": "code",
   "execution_count": 4,
   "metadata": {},
   "outputs": [
    {
     "data": {
      "text/plain": [
       "array([[1, 3, 5, 3, 5, 1, 7, 7, 2],\n",
       "       [2, 4, 32, 2, 3, 0, 0, 0, 0]], dtype=object)"
      ]
     },
     "execution_count": 4,
     "metadata": {},
     "output_type": "execute_result"
    }
   ],
   "source": [
    "# # Padding with zeros\n",
    "sequences = [[1,3,5,3,5,1,7,7,2],[2,4,32,2,3]]\n",
    "strSeq = sequence.pad_sequences(sequences, dtype=object, padding='post', value = 0)\n",
    "strSeq"
   ]
  },
  {
   "cell_type": "markdown",
   "metadata": {},
   "source": [
    "## Repead padding: padding with sequence itself"
   ]
  },
  {
   "cell_type": "code",
   "execution_count": 72,
   "metadata": {},
   "outputs": [],
   "source": [
    "# padding with same sequence\n",
    "maxlen = len(max(sequences, key=len))\n",
    "strSeq = [np.pad(seq, (0, maxlen-len(seq)), 'reflect') for seq in sequences]\n"
   ]
  },
  {
   "cell_type": "code",
   "execution_count": 89,
   "metadata": {},
   "outputs": [],
   "source": []
  },
  {
   "cell_type": "code",
   "execution_count": null,
   "metadata": {
    "id": "yOLeiUJLyHP0"
   },
   "outputs": [],
   "source": [
    "df = pd.DataFrame(sequences, index=np.arange(1, len(sequences)+1), \n",
    "             columns=['Sequences'])\n",
    "strSeq = sequences"
   ]
  },
  {
   "cell_type": "markdown",
   "metadata": {},
   "source": [
    "## Sequential Encoding of raw sequences only composed of A,C,G,T, Z"
   ]
  },
  {
   "cell_type": "code",
   "execution_count": 75,
   "metadata": {
    "id": "70iDdwkRyHP1"
   },
   "outputs": [],
   "source": [
    "def toNum(seq):\n",
    "    nseq = []\n",
    "    for c in seq:\n",
    "        if(c=='A'): \n",
    "            nseq.append(1)\n",
    "        elif c=='C':\n",
    "            nseq.append(2)\n",
    "        elif c=='G':\n",
    "            nseq.append(3)\n",
    "        elif c=='T':\n",
    "            nseq.append(4)\n",
    "        else :\n",
    "            nseq.append(0)\n",
    "#     print(nseq)\n",
    "    return nseq"
   ]
  },
  {
   "cell_type": "code",
   "execution_count": 76,
   "metadata": {
    "id": "R4rfxqzayHP1"
   },
   "outputs": [],
   "source": [
    "sequences = [toNum(seq) for seq in strSeq]"
   ]
  },
  {
   "cell_type": "markdown",
   "metadata": {},
   "source": [
    "### transform the list into numpy array for less storage size"
   ]
  },
  {
   "cell_type": "code",
   "execution_count": null,
   "metadata": {},
   "outputs": [],
   "source": [
    "sequences = np.array(sequences, dtype='object')"
   ]
  },
  {
   "cell_type": "markdown",
   "metadata": {},
   "source": [
    "## Checkpoint: Read or write padded/ encoded sequences to disk"
   ]
  },
  {
   "cell_type": "markdown",
   "metadata": {},
   "source": [
    "## Write to disk"
   ]
  },
  {
   "cell_type": "code",
   "execution_count": 8,
   "metadata": {},
   "outputs": [],
   "source": [
    "with open(r'D:\\DataSet\\LstmData\\repeatPad-numSeq-2.pkl','wb') as f:\n",
    "    pickle.dump(sequences, f)"
   ]
  },
  {
   "cell_type": "markdown",
   "metadata": {},
   "source": [
    "## Load from disk "
   ]
  },
  {
   "cell_type": "code",
   "execution_count": 3,
   "metadata": {},
   "outputs": [],
   "source": [
    "with open(r'D:\\DataSet\\LstmData\\repeatPad-numSeq.pkl','rb') as f:\n",
    "    sequences = pickle.load(f)\n"
   ]
  },
  {
   "cell_type": "code",
   "execution_count": 4,
   "metadata": {
    "id": "rDNnl574yHP2"
   },
   "outputs": [],
   "source": [
    "# display(sequences[1])\n",
    "\n"
   ]
  },
  {
   "cell_type": "markdown",
   "metadata": {},
   "source": [
    "## test print a single encoded sequence "
   ]
  },
  {
   "cell_type": "code",
   "execution_count": 5,
   "metadata": {},
   "outputs": [
    {
     "data": {
      "text/plain": [
       "array([4, 2, 2, ..., 1, 3, 1], dtype=object)"
      ]
     },
     "execution_count": 5,
     "metadata": {},
     "output_type": "execute_result"
    }
   ],
   "source": [
    "sequences[3]"
   ]
  },
  {
   "cell_type": "code",
   "execution_count": null,
   "metadata": {
    "id": "J86c97S8lWk2"
   },
   "outputs": [],
   "source": [
    "# with open(r'D:\\DataSet\\LstmData\\repeatPad-numSeq.pkl','wb') as f:\n",
    "#     pickle.dump(sequences, f)"
   ]
  },
  {
   "cell_type": "markdown",
   "metadata": {
    "id": "wd4ZLmnrlYJf"
   },
   "source": [
    "# load data, optionally trimming sequence length"
   ]
  },
  {
   "cell_type": "code",
   "execution_count": 5,
   "metadata": {
    "id": "ubEVD_MRyHP2"
   },
   "outputs": [],
   "source": [
    "# with open('/content/drive/MyDrive/Colab Notebooks/Data/numSeq-sliced.pkl','rb') as f:\n",
    "#     sequences = pd.DataFrame(pickle.load(f))\n",
    "# with open('/content/drive/MyDrive/Colab Notebooks/Data/numSeq-sliced-5000.pkl','rb') as f:\n",
    "#       sequences = np.asarray(pickle.load(f))\n",
    "with open(r'D:\\DataSet\\LstmData\\numSeq.pkl','rb') as f:\n",
    "      sequences = np.asarray(pickle.load(f))\n",
    "#         sequences = pickle.load(f)"
   ]
  },
  {
   "cell_type": "code",
   "execution_count": 6,
   "metadata": {
    "colab": {
     "base_uri": "https://localhost:8080/"
    },
    "id": "FyPMfo5nT3TE",
    "outputId": "a8fede09-624f-43df-b577-220ac3b011b0"
   },
   "outputs": [
    {
     "data": {
      "text/plain": [
       "numpy.ndarray"
      ]
     },
     "execution_count": 6,
     "metadata": {},
     "output_type": "execute_result"
    }
   ],
   "source": [
    "type(sequences[0])\n",
    "# sequences.shape\n",
    "# sequences"
   ]
  },
  {
   "cell_type": "markdown",
   "metadata": {},
   "source": [
    "## Checkpoint: Split sequences into five chunks, to send later to colabs drive"
   ]
  },
  {
   "cell_type": "code",
   "execution_count": 13,
   "metadata": {},
   "outputs": [],
   "source": [
    "s1, s2, s3, s4, s5 = np.split(sequences, 5)"
   ]
  },
  {
   "cell_type": "code",
   "execution_count": 21,
   "metadata": {},
   "outputs": [],
   "source": [
    "l1, l2, l3, l4, l5 = np.split(labels, 5)"
   ]
  },
  {
   "cell_type": "markdown",
   "metadata": {},
   "source": [
    "## Save chunks to disk"
   ]
  },
  {
   "cell_type": "code",
   "execution_count": 30,
   "metadata": {},
   "outputs": [],
   "source": [
    "with open(r'D:\\DataSet\\LstmData\\chuncks\\chunck-1.pkl','wb') as f:\n",
    "    pickle.dump(s1, f)\n",
    "with open(r'D:\\DataSet\\LstmData\\chuncks\\chunck-2.pkl','wb') as f:\n",
    "    pickle.dump(s2, f)\n",
    "with open(r'D:\\DataSet\\LstmData\\chuncks\\chunck-3.pkl','wb') as f:\n",
    "    pickle.dump(s3, f)\n",
    "with open(r'D:\\DataSet\\LstmData\\chuncks\\chunck-4.pkl','wb') as f:\n",
    "    pickle.dump(s4, f)\n",
    "with open(r'D:\\DataSet\\LstmData\\chuncks\\chunck-5.pkl','wb') as f:\n",
    "    pickle.dump(s5, f)\n",
    "    \n",
    "  "
   ]
  },
  {
   "cell_type": "code",
   "execution_count": 32,
   "metadata": {},
   "outputs": [
    {
     "data": {
      "text/html": [
       "<div>\n",
       "<style scoped>\n",
       "    .dataframe tbody tr th:only-of-type {\n",
       "        vertical-align: middle;\n",
       "    }\n",
       "\n",
       "    .dataframe tbody tr th {\n",
       "        vertical-align: top;\n",
       "    }\n",
       "\n",
       "    .dataframe thead th {\n",
       "        text-align: right;\n",
       "    }\n",
       "</style>\n",
       "<table border=\"1\" class=\"dataframe\">\n",
       "  <thead>\n",
       "    <tr style=\"text-align: right;\">\n",
       "      <th></th>\n",
       "      <th>0</th>\n",
       "      <th>1</th>\n",
       "      <th>2</th>\n",
       "      <th>3</th>\n",
       "      <th>4</th>\n",
       "      <th>5</th>\n",
       "      <th>6</th>\n",
       "      <th>7</th>\n",
       "      <th>8</th>\n",
       "      <th>9</th>\n",
       "      <th>...</th>\n",
       "      <th>14989</th>\n",
       "      <th>14990</th>\n",
       "      <th>14991</th>\n",
       "      <th>14992</th>\n",
       "      <th>14993</th>\n",
       "      <th>14994</th>\n",
       "      <th>14995</th>\n",
       "      <th>14996</th>\n",
       "      <th>14997</th>\n",
       "      <th>14998</th>\n",
       "    </tr>\n",
       "  </thead>\n",
       "  <tbody>\n",
       "    <tr>\n",
       "      <th>0</th>\n",
       "      <td>3</td>\n",
       "      <td>3</td>\n",
       "      <td>1</td>\n",
       "      <td>3</td>\n",
       "      <td>2</td>\n",
       "      <td>3</td>\n",
       "      <td>1</td>\n",
       "      <td>1</td>\n",
       "      <td>1</td>\n",
       "      <td>1</td>\n",
       "      <td>...</td>\n",
       "      <td>0</td>\n",
       "      <td>0</td>\n",
       "      <td>0</td>\n",
       "      <td>0</td>\n",
       "      <td>0</td>\n",
       "      <td>0</td>\n",
       "      <td>0</td>\n",
       "      <td>0</td>\n",
       "      <td>0</td>\n",
       "      <td>0</td>\n",
       "    </tr>\n",
       "    <tr>\n",
       "      <th>1</th>\n",
       "      <td>4</td>\n",
       "      <td>3</td>\n",
       "      <td>1</td>\n",
       "      <td>2</td>\n",
       "      <td>3</td>\n",
       "      <td>2</td>\n",
       "      <td>3</td>\n",
       "      <td>3</td>\n",
       "      <td>2</td>\n",
       "      <td>4</td>\n",
       "      <td>...</td>\n",
       "      <td>0</td>\n",
       "      <td>0</td>\n",
       "      <td>0</td>\n",
       "      <td>0</td>\n",
       "      <td>0</td>\n",
       "      <td>0</td>\n",
       "      <td>0</td>\n",
       "      <td>0</td>\n",
       "      <td>0</td>\n",
       "      <td>0</td>\n",
       "    </tr>\n",
       "    <tr>\n",
       "      <th>2</th>\n",
       "      <td>1</td>\n",
       "      <td>2</td>\n",
       "      <td>4</td>\n",
       "      <td>4</td>\n",
       "      <td>4</td>\n",
       "      <td>2</td>\n",
       "      <td>3</td>\n",
       "      <td>2</td>\n",
       "      <td>1</td>\n",
       "      <td>2</td>\n",
       "      <td>...</td>\n",
       "      <td>0</td>\n",
       "      <td>0</td>\n",
       "      <td>0</td>\n",
       "      <td>0</td>\n",
       "      <td>0</td>\n",
       "      <td>0</td>\n",
       "      <td>0</td>\n",
       "      <td>0</td>\n",
       "      <td>0</td>\n",
       "      <td>0</td>\n",
       "    </tr>\n",
       "    <tr>\n",
       "      <th>3</th>\n",
       "      <td>4</td>\n",
       "      <td>2</td>\n",
       "      <td>2</td>\n",
       "      <td>2</td>\n",
       "      <td>2</td>\n",
       "      <td>1</td>\n",
       "      <td>1</td>\n",
       "      <td>3</td>\n",
       "      <td>3</td>\n",
       "      <td>4</td>\n",
       "      <td>...</td>\n",
       "      <td>0</td>\n",
       "      <td>0</td>\n",
       "      <td>0</td>\n",
       "      <td>0</td>\n",
       "      <td>0</td>\n",
       "      <td>0</td>\n",
       "      <td>0</td>\n",
       "      <td>0</td>\n",
       "      <td>0</td>\n",
       "      <td>0</td>\n",
       "    </tr>\n",
       "    <tr>\n",
       "      <th>4</th>\n",
       "      <td>2</td>\n",
       "      <td>4</td>\n",
       "      <td>2</td>\n",
       "      <td>2</td>\n",
       "      <td>4</td>\n",
       "      <td>2</td>\n",
       "      <td>1</td>\n",
       "      <td>1</td>\n",
       "      <td>3</td>\n",
       "      <td>2</td>\n",
       "      <td>...</td>\n",
       "      <td>0</td>\n",
       "      <td>0</td>\n",
       "      <td>0</td>\n",
       "      <td>0</td>\n",
       "      <td>0</td>\n",
       "      <td>0</td>\n",
       "      <td>0</td>\n",
       "      <td>0</td>\n",
       "      <td>0</td>\n",
       "      <td>0</td>\n",
       "    </tr>\n",
       "    <tr>\n",
       "      <th>...</th>\n",
       "      <td>...</td>\n",
       "      <td>...</td>\n",
       "      <td>...</td>\n",
       "      <td>...</td>\n",
       "      <td>...</td>\n",
       "      <td>...</td>\n",
       "      <td>...</td>\n",
       "      <td>...</td>\n",
       "      <td>...</td>\n",
       "      <td>...</td>\n",
       "      <td>...</td>\n",
       "      <td>...</td>\n",
       "      <td>...</td>\n",
       "      <td>...</td>\n",
       "      <td>...</td>\n",
       "      <td>...</td>\n",
       "      <td>...</td>\n",
       "      <td>...</td>\n",
       "      <td>...</td>\n",
       "      <td>...</td>\n",
       "      <td>...</td>\n",
       "    </tr>\n",
       "    <tr>\n",
       "      <th>11995</th>\n",
       "      <td>2</td>\n",
       "      <td>2</td>\n",
       "      <td>3</td>\n",
       "      <td>3</td>\n",
       "      <td>1</td>\n",
       "      <td>2</td>\n",
       "      <td>4</td>\n",
       "      <td>1</td>\n",
       "      <td>3</td>\n",
       "      <td>4</td>\n",
       "      <td>...</td>\n",
       "      <td>0</td>\n",
       "      <td>0</td>\n",
       "      <td>0</td>\n",
       "      <td>0</td>\n",
       "      <td>0</td>\n",
       "      <td>0</td>\n",
       "      <td>0</td>\n",
       "      <td>0</td>\n",
       "      <td>0</td>\n",
       "      <td>0</td>\n",
       "    </tr>\n",
       "    <tr>\n",
       "      <th>11996</th>\n",
       "      <td>4</td>\n",
       "      <td>1</td>\n",
       "      <td>4</td>\n",
       "      <td>2</td>\n",
       "      <td>2</td>\n",
       "      <td>3</td>\n",
       "      <td>4</td>\n",
       "      <td>1</td>\n",
       "      <td>2</td>\n",
       "      <td>3</td>\n",
       "      <td>...</td>\n",
       "      <td>0</td>\n",
       "      <td>0</td>\n",
       "      <td>0</td>\n",
       "      <td>0</td>\n",
       "      <td>0</td>\n",
       "      <td>0</td>\n",
       "      <td>0</td>\n",
       "      <td>0</td>\n",
       "      <td>0</td>\n",
       "      <td>0</td>\n",
       "    </tr>\n",
       "    <tr>\n",
       "      <th>11997</th>\n",
       "      <td>4</td>\n",
       "      <td>4</td>\n",
       "      <td>2</td>\n",
       "      <td>2</td>\n",
       "      <td>4</td>\n",
       "      <td>4</td>\n",
       "      <td>4</td>\n",
       "      <td>1</td>\n",
       "      <td>2</td>\n",
       "      <td>3</td>\n",
       "      <td>...</td>\n",
       "      <td>0</td>\n",
       "      <td>0</td>\n",
       "      <td>0</td>\n",
       "      <td>0</td>\n",
       "      <td>0</td>\n",
       "      <td>0</td>\n",
       "      <td>0</td>\n",
       "      <td>0</td>\n",
       "      <td>0</td>\n",
       "      <td>0</td>\n",
       "    </tr>\n",
       "    <tr>\n",
       "      <th>11998</th>\n",
       "      <td>2</td>\n",
       "      <td>1</td>\n",
       "      <td>2</td>\n",
       "      <td>1</td>\n",
       "      <td>2</td>\n",
       "      <td>2</td>\n",
       "      <td>4</td>\n",
       "      <td>4</td>\n",
       "      <td>4</td>\n",
       "      <td>3</td>\n",
       "      <td>...</td>\n",
       "      <td>0</td>\n",
       "      <td>0</td>\n",
       "      <td>0</td>\n",
       "      <td>0</td>\n",
       "      <td>0</td>\n",
       "      <td>0</td>\n",
       "      <td>0</td>\n",
       "      <td>0</td>\n",
       "      <td>0</td>\n",
       "      <td>0</td>\n",
       "    </tr>\n",
       "    <tr>\n",
       "      <th>11999</th>\n",
       "      <td>2</td>\n",
       "      <td>3</td>\n",
       "      <td>4</td>\n",
       "      <td>1</td>\n",
       "      <td>3</td>\n",
       "      <td>2</td>\n",
       "      <td>2</td>\n",
       "      <td>1</td>\n",
       "      <td>4</td>\n",
       "      <td>2</td>\n",
       "      <td>...</td>\n",
       "      <td>0</td>\n",
       "      <td>0</td>\n",
       "      <td>0</td>\n",
       "      <td>0</td>\n",
       "      <td>0</td>\n",
       "      <td>0</td>\n",
       "      <td>0</td>\n",
       "      <td>0</td>\n",
       "      <td>0</td>\n",
       "      <td>0</td>\n",
       "    </tr>\n",
       "  </tbody>\n",
       "</table>\n",
       "<p>12000 rows × 14999 columns</p>\n",
       "</div>"
      ],
      "text/plain": [
       "       0      1      2      3      4      5      6      7      8      9      \\\n",
       "0          3      3      1      3      2      3      1      1      1      1   \n",
       "1          4      3      1      2      3      2      3      3      2      4   \n",
       "2          1      2      4      4      4      2      3      2      1      2   \n",
       "3          4      2      2      2      2      1      1      3      3      4   \n",
       "4          2      4      2      2      4      2      1      1      3      2   \n",
       "...      ...    ...    ...    ...    ...    ...    ...    ...    ...    ...   \n",
       "11995      2      2      3      3      1      2      4      1      3      4   \n",
       "11996      4      1      4      2      2      3      4      1      2      3   \n",
       "11997      4      4      2      2      4      4      4      1      2      3   \n",
       "11998      2      1      2      1      2      2      4      4      4      3   \n",
       "11999      2      3      4      1      3      2      2      1      4      2   \n",
       "\n",
       "       ...  14989  14990  14991  14992  14993  14994  14995  14996  14997  \\\n",
       "0      ...      0      0      0      0      0      0      0      0      0   \n",
       "1      ...      0      0      0      0      0      0      0      0      0   \n",
       "2      ...      0      0      0      0      0      0      0      0      0   \n",
       "3      ...      0      0      0      0      0      0      0      0      0   \n",
       "4      ...      0      0      0      0      0      0      0      0      0   \n",
       "...    ...    ...    ...    ...    ...    ...    ...    ...    ...    ...   \n",
       "11995  ...      0      0      0      0      0      0      0      0      0   \n",
       "11996  ...      0      0      0      0      0      0      0      0      0   \n",
       "11997  ...      0      0      0      0      0      0      0      0      0   \n",
       "11998  ...      0      0      0      0      0      0      0      0      0   \n",
       "11999  ...      0      0      0      0      0      0      0      0      0   \n",
       "\n",
       "       14998  \n",
       "0          0  \n",
       "1          0  \n",
       "2          0  \n",
       "3          0  \n",
       "4          0  \n",
       "...      ...  \n",
       "11995      0  \n",
       "11996      0  \n",
       "11997      0  \n",
       "11998      0  \n",
       "11999      0  \n",
       "\n",
       "[12000 rows x 14999 columns]"
      ]
     },
     "execution_count": 32,
     "metadata": {},
     "output_type": "execute_result"
    }
   ],
   "source": [
    "pd.DataFrame(s1)"
   ]
  }
 ],
 "metadata": {
  "accelerator": "GPU",
  "colab": {
   "collapsed_sections": [],
   "name": "LSTM+Embedding.ipynb",
   "provenance": []
  },
  "kernelspec": {
   "display_name": "Python 3",
   "language": "python",
   "name": "python3"
  },
  "language_info": {
   "codemirror_mode": {
    "name": "ipython",
    "version": 3
   },
   "file_extension": ".py",
   "mimetype": "text/x-python",
   "name": "python",
   "nbconvert_exporter": "python",
   "pygments_lexer": "ipython3",
   "version": "3.8.5"
  }
 },
 "nbformat": 4,
 "nbformat_minor": 1
}
